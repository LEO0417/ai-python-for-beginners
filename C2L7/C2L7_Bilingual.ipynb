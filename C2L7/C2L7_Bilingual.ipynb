{
 "cells": [
  {
   "cell_type": "markdown",
   "metadata": {},
   "source": [
    "# Lesson 7 - Next course preview: working with files\n",
    "# 第7课 - 下一门课程预览：文件处理"
   ]
  },
  {
   "cell_type": "markdown",
   "metadata": {},
   "source": [
    "In the next course, you will work with files in Python, exploring some fun applications. This lesson is a quick teaser of the topics you will cover next.\n",
    "\n",
    "在下一门课程中，您将在Python中处理文件，探索一些有趣的应用。这一课是您接下来要涵盖的主题的快速预览。"
   ]
  },
  {
   "cell_type": "code",
   "execution_count": null,
   "metadata": {},
   "outputs": [],
   "source": [
    "from helper_functions import *"
   ]
  },
  {
   "cell_type": "markdown",
   "metadata": {},
   "source": [
    "In the next cell, you load text from a file that contains a journal entry with descriptions of restaurants and their specialties.\n",
    "\n",
    "在下一个单元格中，您从包含餐厅及其特色描述的日志条目的文件中加载文本。"
   ]
  },
  {
   "cell_type": "code",
   "execution_count": null,
   "metadata": {},
   "outputs": [],
   "source": [
    "journal = read_journal(\"journal_entries/cape_town.txt\")\n",
    "print(journal)"
   ]
  },
  {
   "cell_type": "markdown",
   "metadata": {},
   "source": [
    "As you can see, there is a lot of text, and finding the important information can take some time. You can use LLMs to highlight the important information for you. For instance, the restaurants and their specialties.\n",
    "\n",
    "如您所见，有很多文本，找到重要信息可能需要一些时间。您可以使用LLM为您突出显示重要信息。例如，餐厅及其特色。"
   ]
  },
  {
   "cell_type": "code",
   "execution_count": null,
   "metadata": {},
   "outputs": [],
   "source": [
    "prompt = f\"\"\"\n",
    "Given the following journal entry from a food critic, identify the restaurants and their specialties.\n",
    "For each restaurant, highlight its name and specialties in bold and use different colors for each.\n",
    "Provide the output as HTML suitable for display in a Jupyter notebook.\n",
    "\n",
    "Journal entry:\n",
    "{journal}\n",
    "\"\"\"\n",
    "html_response = get_llm_response(prompt)\n",
    "display_html(html_response)"
   ]
  },
  {
   "cell_type": "markdown",
   "metadata": {},
   "source": [
    "You have achieved a fantastic feat! 🎉🎉🎉 You completed this course and are ready to tackle new programming challenges. You have already seen how to work with lists, dictionaries, and booleans, and are familiar with how to use all of them with LLMs. I hope to see you in the next course so that you continue to explore cool examples like the one in this lesson! 🚀👏\n",
    "\n",
    "您取得了令人惊叹的成就！🎉🎉🎉 您完成了这门课程，准备迎接新的编程挑战。您已经看到了如何使用列表、字典和布尔值，并熟悉了如何将它们与LLM一起使用。我希望在下一门课程中见到您，这样您就可以继续探索像本课中这样的酷例子！🚀👏"
   ]
  }
 ],
 "metadata": {
  "kernelspec": {
   "display_name": "Python 3",
   "language": "python",
   "name": "python3"
  },
  "language_info": {
   "codemirror_mode": {
    "name": "ipython",
    "version": 3
   },
   "file_extension": ".py",
   "mimetype": "text/x-python",
   "name": "python",
   "nbconvert_exporter": "python",
   "pygments_lexer": "ipython3",
   "version": "3.8.0"
  }
 },
 "nbformat": 4,
 "nbformat_minor": 4
}