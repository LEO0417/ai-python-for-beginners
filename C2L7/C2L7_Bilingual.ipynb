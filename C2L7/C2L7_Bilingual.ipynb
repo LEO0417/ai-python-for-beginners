{
 "cells": [
  {
   "cell_type": "markdown",
   "id": "f6bf49f7-21f0-47bc-9a3e-7fd325a0b9bf",
   "metadata": {},
   "source": [
    "# Lesson 7 - Next course preview: working with files\n",
    "# 第7课：下个课程预览：文件操作"
   ]
  },
  {
   "cell_type": "markdown",
   "id": "3b995ca7-0cb5-493f-bd27-72af8b13e7bb",
   "metadata": {},
   "source": [
    "In the next course, you will work with files in Python, exploring some fun applications. This lesson is a quick teaser of the topics you will cover next.\n",
    "",
    "在下一门课程中，你将学习如何在Python中处理文件，探索一些有趣的应用。本课将简要预览你即将学习的主题。"
   ]
  },
  {
   "cell_type": "code",
   "execution_count": null,
   "id": "96cd66e4-95b9-4ec3-ac05-e792a8675759",
   "metadata": {},
   "outputs": [],
   "source": [
    "from helper_functions import *"
   ]
  },
  {
   "cell_type": "markdown",
   "id": "2bcd475f-2f4a-48e4-a0c1-610e622bb1c2",
   "metadata": {},
   "source": [
    "In the next cell, you load text from a file that contains a journal entry with descriptions of restaurants and their specialties.\n",
    "",
    "在下一单元格中，你将从文件中读取一段日记，其中包含各家餐厅及其特色菜的描述。"
   ]
  },
  {
   "cell_type": "code",
   "execution_count": null,
   "id": "fec224a6-51f8-4dcf-819f-ccceeef75d48",
   "metadata": {},
   "outputs": [],
   "source": [
    "journal = read_journal(\"journal_entries/cape_town.txt\") \n",
    "print(journal)"
   ]
  },
  {
   "cell_type": "markdown",
   "id": "0c817471-c24e-4e0b-a274-b09271e06004",
   "metadata": {},
   "source": [
    "As you can see, there is a lot of text, and finding the important information can take some time. You can use LLMs to highlight the important information for you. For instance, the restaurants and their specialties.\n",
    "",
    "如你所见，文本内容较多，找出重要信息可能需要一些时间。你可以利用大语言模型帮你突出关键信息，例如餐厅名称及其特色菜。"
   ]
  },
  {
   "cell_type": "code",
   "execution_count": null,
   "id": "12fad143-833a-44db-a5cc-1f7791e8705e",
   "metadata": {},
   "outputs": [],
   "source": [
    "prompt = f\"\"\"\n",
    "Given the following journal entry from a food critic, identify the restaurants and their specialties.\n",
    "For each restaurant, highlight its name and specialties in bold and use different colors for each.\n",
    "Provide the output as HTML suitable for display in a Jupyter notebook.\n",
    "\n",
    "Journal entry:\n",
    "{journal}\n",
    "\"\"\"\n",
    "html_response = get_llm_response(prompt)\n",
    "display_html(html_response)"
   ]
  },
  {
   "cell_type": "markdown",
   "id": "580a69ac-4b3c-49e2-a397-4ff033370fe5",
   "metadata": {},
   "source": [
    "You have achieved a fantastic feat! 🎉🎉🎉 You completed this course and are ready to tackle new programming challenges. You have already seen how to work with lists, dictionaries, and booleans, and are familiar with how to use all of them with LLMs. I hope to see you in the next course so that you continue to explore cool examples like the one in this lesson! 🚀👏\n",
    "",
    "你取得了惊人的成就！🎉🎉🎉 你已完成本课程，准备迎接新的编程挑战。你已经学会了如何使用列表、字典和布尔值，并了解了如何将它们与LLM结合使用。希望在下一门课程中继续看到你，探索像本课这样酷炫的示例！🚀👏"
   ]
  }
 ],
 "metadata": {
  "kernelspec": {
   "display_name": "Python 3 (ipykernel)",
   "language": "python",
   "name": "python3"
  },
  "language_info": {
   "codemirror_mode": {
    "name": "ipython",
    "version": 3
   },
   "file_extension": ".py",
   "mimetype": "text/x-python",
   "name": "python",
   "nbconvert_exporter": "python",
   "pygments_lexer": "ipython3",
   "version": "3.9.19"
  }
 },
 "nbformat": 4,
 "nbformat_minor": 5
}