{
 "cells": [
  {
   "cell_type": "markdown",
   "id": "de660b8e",
   "metadata": {},
   "source": [
    "# Lesson 10: Functions - Actions on Data\n",
    "# 第10课：函数 - 对数据的操作"
   ]
  },
  {
   "cell_type": "markdown",
   "id": "a3c720f4",
   "metadata": {},
   "source": [
    "First, start by running the command below. This imports some functions, including the `print_llm_response` function you used before, from the `helper_functions` Python file.\n",
    "\n",
    "首先，运行下面的命令。这会从`helper_functions` Python文件中导入一些函数，包括你之前使用过的`print_llm_response`函数。"
   ]
  },
  {
   "cell_type": "code",
   "execution_count": null,
   "id": "e7d9dd05",
   "metadata": {},
   "outputs": [],
   "source": [
    "from helper_functions import *"
   ]
  },
  {
   "cell_type": "markdown",
   "id": "a229ce91",
   "metadata": {},
   "source": [
    "In previous lessons, you have used the `print()` function to display values directly to the screen and the `print_llm_response()` function to use an LLM following the instruction you provide as a string. Below, you will print `\"¯\\_(ツ)_/¯\"` and ask the LLM about the capital of France.\n",
    "\n",
    "在之前的课程中，你使用了`print()`函数将值直接显示到屏幕上，以及`print_llm_response()`函数来使用LLM执行你以字符串形式提供的指令。下面，你将打印`\"¯\\_(ツ)_/¯\"`并询问LLM关于法国首都的问题。"
   ]
  },
  {
   "cell_type": "code",
   "execution_count": null,
   "id": "a753314f",
   "metadata": {},
   "outputs": [],
   "source": [
    "print(\"¯\\_(ツ)_/¯\")"
   ]
  },
  {
   "cell_type": "code",
   "execution_count": null,
   "id": "cf25d93a-1d9d-4ba8-bb54-6503acbb1930",
   "metadata": {},
   "outputs": [],
   "source": [
    "print_llm_response(\"What is the capital of France?\")"
   ]
  },
  {
   "cell_type": "markdown",
   "id": "52ece8c0",
   "metadata": {},
   "source": [
    "You have also used the `type` function, which gives you the type used in Python for a value or variable you provide. For instance, the type of 17 is `int` (for integer).\n",
    "\n",
    "你还使用了`type`函数，它会告诉你所提供的值或变量在Python中使用的类型。例如，17的类型是`int`（整数）。"
   ]
  },
  {
   "cell_type": "code",
   "execution_count": null,
   "id": "c81ad492",
   "metadata": {},
   "outputs": [],
   "source": [
    "type(17)"
   ]
  },
  {
   "cell_type": "markdown",
   "id": "df1e3c22",
   "metadata": {},
   "source": [
    "In this lesson, you will see more function examples and explore more deeply how functions work.\n",
    "\n",
    "在这节课中，你将看到更多函数示例，并更深入地探索函数的工作原理。"
   ]
  },
  {
   "cell_type": "markdown",
   "id": "17034de4",
   "metadata": {},
   "source": [
    "## Functions to count, to round, and to do much more\n",
    "## 用于计数、四舍五入和执行更多操作的函数"
   ]
  },
  {
   "cell_type": "markdown",
   "id": "76aa246f",
   "metadata": {},
   "source": [
    "There are many functions in Python that you can use straight out of the box. For instance, the `len()` function counts the characters in a string. So when you run the code below, you will display (using `print()`) the result of counting (with `len()`) the number of characters in the string `\"Hello World!\"`.\n",
    "\n",
    "Python中有许多可以直接使用的函数。例如，`len()`函数计算字符串中的字符数。所以当你运行下面的代码时，你将显示（使用`print()`）计算（使用`len()`）字符串`\"Hello World!\"`中字符数量的结果。"
   ]
  },
  {
   "cell_type": "code",
   "execution_count": null,
   "id": "05f09a2e",
   "metadata": {},
   "outputs": [],
   "source": [
    "print( len(\"Hello World!\") ) "
   ]
  },
  {
   "cell_type": "markdown",
   "id": "b0987e9f",
   "metadata": {},
   "source": [
    "As another example, you can use `round()` to take a floating point number and round it to the nearest integer. Below, you use `print()` to display the result of rounding (with `round()`) the number `42.17`.\n",
    "\n",
    "作为另一个例子，你可以使用`round()`来取一个浮点数并将其四舍五入到最接近的整数。下面，你使用`print()`来显示四舍五入（使用`round()`）数字`42.17`的结果。"
   ]
  },
  {
   "cell_type": "code",
   "execution_count": null,
   "id": "ce418e1a",
   "metadata": {},
   "outputs": [],
   "source": [
    "print(round(42.17))"
   ]
  },
  {
   "cell_type": "markdown",
   "id": "94a9d309",
   "metadata": {},
   "source": [
    "You can save the result from a function using variables in a very similar way to what you have already explored in previous lessons. Below, you save the result from `len(\"Hello World!\")` to the variable `string_length`.\n",
    "\n",
    "你可以使用变量保存函数的结果，这与你在之前课程中已经探索过的方式非常相似。下面，你将`len(\"Hello World!\")`的结果保存到变量`string_length`中。"
   ]
  },
  {
   "cell_type": "code",
   "execution_count": null,
   "id": "c4690998",
   "metadata": {},
   "outputs": [],
   "source": [
    "string_length = len(\"Hello World!\")\n",
    "print(string_length)"
   ]
  },
  {
   "cell_type": "markdown",
   "id": "783e327e",
   "metadata": {},
   "source": [
    "There are many functions in Python, and you don't have to memorize them all. If you ever need a function to perform a specific task, you can ask the chatbot. Try it now with the suggested prompt here or try your own.\n",
    "\n",
    "Python中有很多函数，你不必全部记住。如果你需要一个函数来执行特定任务，你可以询问聊天机器人。现在就用这里建议的提示词试试，或者试试你自己的。\n",
    "\n",
    "<p style=\"background-color:#F5C780; padding:15px\"> 🤖 <b>Use the Chatbot</b>: How can I find the length of a string?\n",
    "<br>🤖 <b>使用聊天机器人</b>：我如何找到字符串的长度？\n",
    "</p>"
   ]
  },
  {
   "cell_type": "markdown",
   "id": "90b0fdc4-e01f-425b-af70-755ee52334f2",
   "metadata": {},
   "source": [
    "## Using functions in AI programs\n",
    "## 在AI程序中使用函数"
   ]
  },
  {
   "cell_type": "markdown",
   "id": "1b0dee8d-14f8-4078-bbc1-ed3e8aafce86",
   "metadata": {},
   "source": [
    "Functions can be used alongside variables in AI programs. In the previous lesson, you saw how to create custom instructions (or prompts) for an LLM using variables. In the cell below, you will use variables and the `round()` function to create a prompt that you will use for an LLM with the `get_llm_response()` function. The `get_llm_response()` function is very similar to `print_llm_response()` (which you used before); the main difference is that you get a string as a result instead of just displaying the LLM response. This way, you can store the LLM response in the variable `response`.\n",
    "\n",
    "函数可以与变量一起在AI程序中使用。在上一课中，你看到了如何使用变量为LLM创建自定义指令（或提示词）。在下面的单元格中，你将使用变量和`round()`函数创建一个提示词，然后使用`get_llm_response()`函数将其用于LLM。`get_llm_response()`函数与`print_llm_response()`（你之前使用过的）非常相似；主要区别是你得到一个字符串作为结果，而不是仅仅显示LLM响应。这样，你可以将LLM响应存储在变量`response`中。"
   ]
  },
  {
   "cell_type": "code",
   "execution_count": null,
   "id": "03b730a6",
   "metadata": {},
   "outputs": [],
   "source": [
    "name = \"Tommy\"\n",
    "potatoes = 4.75\n",
    "prompt = f\"\"\"Write a couplet about my friend {name} who has about {round(potatoes)} potatoes\"\"\"\n",
    "response = get_llm_response(prompt)\n",
    "print(response)"
   ]
  },
  {
   "cell_type": "markdown",
   "id": "25fc5429",
   "metadata": {},
   "source": [
    "## Extra practice\n",
    "## 额外练习\n",
    "\n",
    "Try the exercises below to practice the concepts from this lesson. Read the comments in each cell with the instructions for each exercise.\n",
    "\n",
    "尝试下面的练习来练习本课的概念。阅读每个单元格中的注释，了解每个练习的说明。\n",
    "\n",
    "<b>Feel free to use the chatbot if you need help.</b>\n",
    "\n",
    "<b>如果需要帮助，请随时使用聊天机器人。</b>"
   ]
  },
  {
   "cell_type": "code",
   "execution_count": null,
   "id": "5c38d622",
   "metadata": {},
   "outputs": [],
   "source": "# Enter one of your favorite numbers. Multiply the result by 10 and save it to a variable called 'lucky_number'.\n# Print a message saying \"Your lucky number is [lucky_number]!\"\n# 输入你最喜欢的数字之一。将结果乘以10并保存到名为'lucky_number'的变量中。\n# 打印一条消息说\"Your lucky number is [lucky_number]!\"\n\nlucky_number = 7 * 10\nprint(f\"Your lucky number is {lucky_number}!\")"
  },
  {
   "cell_type": "code",
   "execution_count": null,
   "id": "c3f62ddb",
   "metadata": {},
   "outputs": [],
   "source": "# Use print_llm_response() to print a poem with the specified number of lines. Use the \n# prompt variable to save your prompt before calling print_llm_response()\n# 使用print_llm_response()打印具有指定行数的诗歌。在调用print_llm_response()之前\n# 使用prompt变量保存你的提示词\n\nnumber_of_lines = 4\nprompt = f\"Write a poem about friendship with exactly {number_of_lines} lines.\"\nprint_llm_response(prompt)"
  },
  {
   "cell_type": "code",
   "execution_count": null,
   "id": "653e6a72",
   "metadata": {},
   "outputs": [],
   "source": "# Repeat exercise 2, this time using the function get_llm_response(), then print() to print it. This function asks \n# the LLM for a response, just like print_llm_response, but does not print it. You'll need to save the response to\n# a variable, then print it out separately.\n# 重复练习2，这次使用函数get_llm_response()，然后使用print()打印它。这个函数向\n# LLM请求响应，就像print_llm_response一样，但不会打印它。你需要将响应保存到\n# 一个变量中，然后单独打印出来。\n\nnumber_of_lines = 4\nprompt = f\"Write a poem about nature with exactly {number_of_lines} lines.\"\nresponse = get_llm_response(prompt)\nprint(response)"
  }
 ],
 "metadata": {
  "kernelspec": {
   "display_name": "Python 3 (ipykernel)",
   "language": "python",
   "name": "python3"
  },
  "language_info": {
   "codemirror_mode": {
    "name": "ipython",
    "version": 3
   },
   "file_extension": ".py",
   "mimetype": "text/x-python",
   "name": "python",
   "nbconvert_exporter": "python",
   "pygments_lexer": "ipython3",
   "version": "3.9.19"
  }
 },
 "nbformat": 4,
 "nbformat_minor": 5
}