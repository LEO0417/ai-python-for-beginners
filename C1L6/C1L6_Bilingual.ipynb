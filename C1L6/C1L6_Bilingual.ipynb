{
 "cells": [
  {
   "cell_type": "markdown",
   "metadata": {},
   "source": [
    "# Lesson 6: Data in Python\n",
    "# 第6课：Python中的数据"
   ]
  },
  {
   "cell_type": "markdown",
   "metadata": {},
   "source": [
    "There are different types of data in Python. Here, you will see how text and numbers are used in Python.\n",
    "\n",
    "Python中有不同类型的数据。在这里，您将看到如何在Python中使用文本和数字。"
   ]
  },
  {
   "cell_type": "markdown",
   "metadata": {},
   "source": [
    "## Strings\n",
    "## 字符串"
   ]
  },
  {
   "cell_type": "markdown",
   "metadata": {},
   "source": [
    "Strings are used to store and manipulate text. As you see here, strings are written inside of quotes and can contain letters, numbers, punctuation marks, and other special characters. Run the following cells to print these four different strings.\n",
    "\n",
    "字符串用于存储和操作文本。如您所见，字符串写在引号内，可以包含字母、数字、标点符号和其他特殊字符。运行以下单元格来打印这四个不同的字符串。"
   ]
  },
  {
   "cell_type": "code",
   "execution_count": null,
   "metadata": {},
   "outputs": [],
   "source": [
    "print(\"Hello, World\")"
   ]
  },
  {
   "cell_type": "code",
   "execution_count": null,
   "metadata": {},
   "outputs": [],
   "source": [
    "print(\"My favorite drink is Earl Grey tea.\")"
   ]
  },
  {
   "cell_type": "code",
   "execution_count": null,
   "metadata": {},
   "outputs": [],
   "source": [
    "print(\"¯\\_(ツ)_/¯\")"
   ]
  },
  {
   "cell_type": "code",
   "execution_count": null,
   "metadata": {},
   "outputs": [],
   "source": [
    "print(\"2.99\")"
   ]
  },
  {
   "cell_type": "markdown",
   "metadata": {},
   "source": [
    "## Multiline strings\n",
    "## 多行字符串"
   ]
  },
  {
   "cell_type": "markdown",
   "metadata": {},
   "source": [
    "If you use triple quotation marks, you can store a multiline string. These strings can span more than one line. When you run the following cell, you will see how the spaces in the second line are actually read as characters for the string.\n",
    "\n",
    "如果使用三重引号，您可以存储多行字符串。这些字符串可以跨越多行。当您运行以下单元格时，您将看到第二行中的空格实际上被读取为字符串的字符。"
   ]
  },
  {
   "cell_type": "code",
   "execution_count": null,
   "metadata": {},
   "outputs": [],
   "source": [
    "print(\"\"\"Hello, World!\n",
    "      It's great to be here!\"\"\")"
   ]
  },
  {
   "cell_type": "markdown",
   "metadata": {},
   "source": [
    "Trying to define a multiline string using single quotes will lead to errors.\n",
    "\n",
    "尝试使用单引号定义多行字符串会导致错误。"
   ]
  },
  {
   "cell_type": "code",
   "execution_count": null,
   "metadata": {},
   "outputs": [],
   "source": [
    "print(\"Hello, World!\n",
    "      It's great to be here!\")"
   ]
  },
  {
   "cell_type": "markdown",
   "metadata": {},
   "source": [
    "## The type() function\n",
    "## type()函数"
   ]
  },
  {
   "cell_type": "markdown",
   "metadata": {},
   "source": [
    "In Python, you can check the type of any data that you are using. To check the data type, you can use the `type()` function. When you run the next cell, you will retrieve the type for the string `\"Andrew\"`.\n",
    "\n",
    "在Python中，您可以检查正在使用的任何数据的类型。要检查数据类型，您可以使用`type()`函数。当您运行下一个单元格时，您将获取字符串`\"Andrew\"`的类型。"
   ]
  },
  {
   "cell_type": "code",
   "execution_count": null,
   "metadata": {},
   "outputs": [],
   "source": [
    "type(\"Andrew\")"
   ]
  },
  {
   "cell_type": "markdown",
   "metadata": {},
   "source": [
    "Python returned `str`, which is short for string. Let's check the type for a multiline string:\n",
    "\n",
    "Python返回了`str`，这是string的缩写。让我们检查多行字符串的类型："
   ]
  },
  {
   "cell_type": "code",
   "execution_count": null,
   "metadata": {},
   "outputs": [],
   "source": [
    "type(\"\"\"\n",
    "Numbers, text, and truth,\n",
    "Strings, ints, and floats in our code,\n",
    "Data shapes our path\n",
    "\"\"\")"
   ]
  },
  {
   "cell_type": "markdown",
   "metadata": {},
   "source": [
    "This also returns `str`, since it is also a string. Let's try a number within quotation marks:\n",
    "\n",
    "这也返回`str`，因为它也是一个字符串。让我们尝试引号内的数字："
   ]
  },
  {
   "cell_type": "code",
   "execution_count": null,
   "metadata": {},
   "outputs": [],
   "source": [
    "type(\"2.99\")"
   ]
  },
  {
   "cell_type": "markdown",
   "metadata": {},
   "source": [
    "This is also a string, even though it looks like a number. By using quotation marks you're telling Python to treat it as text, rather than a number. What about a number without quotes?\n",
    "\n",
    "这也是一个字符串，尽管它看起来像一个数字。通过使用引号，您告诉Python将其视为文本，而不是数字。没有引号的数字呢？"
   ]
  },
  {
   "cell_type": "code",
   "execution_count": null,
   "metadata": {},
   "outputs": [],
   "source": [
    "type(100)"
   ]
  },
  {
   "cell_type": "markdown",
   "metadata": {},
   "source": [
    "This time you get `int`, which is short for integer. Integers are the positive and negative whole numbers, like 42, 100, -9, and 0. Since there are no quotes around the number Python assumes this is numerical data, and since there is no decimal place on this number, it interprets it as an integer. Now, let's try a number that does have decimal places:\n",
    "\n",
    "这次您得到`int`，这是integer的缩写。整数是正负整数，如42、100、-9和0。由于数字周围没有引号，Python假设这是数值数据，由于这个数字没有小数位，它将其解释为整数。现在，让我们尝试一个有小数位的数字："
   ]
  },
  {
   "cell_type": "code",
   "execution_count": null,
   "metadata": {},
   "outputs": [],
   "source": [
    "type(2.99)"
   ]
  },
  {
   "cell_type": "markdown",
   "metadata": {},
   "source": [
    "The function type gives `float`, which is the data type used to store floating point numbers. Floating point numbers are positive and negative numbers that include a decimal place, like 3.14, 2.99, and -0.003.\n",
    "\n",
    "type函数返回`float`，这是用于存储浮点数的数据类型。浮点数是包含小数位的正负数，如3.14、2.99和-0.003。"
   ]
  },
  {
   "cell_type": "markdown",
   "metadata": {},
   "source": [
    "## Python as a calculator!\n",
    "## Python作为计算器！"
   ]
  },
  {
   "cell_type": "markdown",
   "metadata": {},
   "source": [
    "Python works great for quick arithmetic operations. For instance, if you had a lemonade stand, and wanted to compute the total number of sales you made through the last 12 months, you can use Python like this:\n",
    "\n",
    "Python非常适合快速算术运算。例如，如果您有一个柠檬水摊，想要计算过去12个月的总销售额，您可以这样使用Python："
   ]
  },
  {
   "cell_type": "code",
   "execution_count": null,
   "metadata": {},
   "outputs": [],
   "source": [
    "print(28+35+43+50+65+70+68+66+75+80+95)"
   ]
  },
  {
   "cell_type": "markdown",
   "metadata": {},
   "source": [
    "As another example, you can perform more advanced math, like computing the compound interest after 10 years at a rate of 5%. To do that, you can compute 1.05 to the power of 10. Not sure how to do it in Python? You can use the Chatbot!\n",
    "\n",
    "作为另一个例子，您可以执行更高级的数学运算，比如计算5%利率下10年后的复利。为此，您可以计算1.05的10次方。不确定如何在Python中做到这一点？您可以使用聊天机器人！"
   ]
  },
  {
   "cell_type": "markdown",
   "metadata": {},
   "source": [
    "<p style=\"background-color:#F5C780; padding:15px\"> 🤖 <b>Use the Chatbot</b>: How do I compute 1.05 to the power of 10?\n",
    "</p>\n",
    "\n",
    "<p style=\"background-color:#F5C780; padding:15px\"> 🤖 <b>使用聊天机器人</b>：如何计算1.05的10次方？\n",
    "</p>"
   ]
  },
  {
   "cell_type": "code",
   "execution_count": null,
   "metadata": {},
   "outputs": [],
   "source": [
    "# 使用**运算符计算幂次方\n",
    "print(1.05 ** 10)"
   ]
  },
  {
   "cell_type": "markdown",
   "metadata": {},
   "source": [
    "### Order of operations\n",
    "### 运算顺序"
   ]
  },
  {
   "cell_type": "markdown",
   "metadata": {},
   "source": [
    "The order of operations in Python is the same as in arithmetic. First, you compute parentheses, then exponents, then you multiply and divide (from left to right), and finally, you add and subtract (from left to right).\n",
    "\n",
    "Python中的运算顺序与算术中的相同。首先计算括号，然后是指数，然后乘除（从左到右），最后加减（从左到右）。\n",
    "\n",
    "So, if you are trying to convert from Fahrenheit to Celsius, the following cell will give you an incorrect answer:\n",
    "\n",
    "因此，如果您试图从华氏度转换为摄氏度，以下单元格将给您一个错误的答案："
   ]
  },
  {
   "cell_type": "code",
   "execution_count": null,
   "metadata": {},
   "outputs": [],
   "source": [
    "print(75 - 32 * 5 / 9)"
   ]
  },
  {
   "cell_type": "markdown",
   "metadata": {},
   "source": [
    "Whereas the computation in this cell is correct.\n",
    "\n",
    "而这个单元格中的计算是正确的。"
   ]
  },
  {
   "cell_type": "code",
   "execution_count": null,
   "metadata": {},
   "outputs": [],
   "source": [
    "print((75 - 32) * 5 / 9)"
   ]
  },
  {
   "cell_type": "markdown",
   "metadata": {},
   "source": [
    "### Try for yourself!\n",
    "### 自己试试！\n",
    "Try printing text with mixed numbers and letters, or just symbols, then check the type. Try multiline strings using the triple quotes. If you make any mistakes, ask the chatbot for help.\n",
    "\n",
    "尝试打印包含数字和字母混合的文本，或仅包含符号的文本，然后检查类型。尝试使用三重引号的多行字符串。如果您犯任何错误，请向聊天机器人寻求帮助。"
   ]
  },
  {
   "cell_type": "code",
   "execution_count": null,
   "metadata": {},
   "outputs": [],
   "source": [
    "# 在这里尝试打印不同类型的文本\n",
    "print()"
   ]
  },
  {
   "cell_type": "code",
   "execution_count": null,
   "metadata": {},
   "outputs": [],
   "source": [
    "# 在这里检查数据类型\n",
    "type()"
   ]
  },
  {
   "cell_type": "markdown",
   "metadata": {},
   "source": [
    "Fix the errors in the following code cells.\n",
    "\n",
    "修复以下代码单元格中的错误。"
   ]
  },
  {
   "cell_type": "code",
   "execution_count": null,
   "metadata": {},
   "outputs": [],
   "source": [
    "# Fix the error in the following code\n",
    "# 修复以下代码中的错误\n",
    "print(\"There are 366 days in a leap year\")"
   ]
  },
  {
   "cell_type": "code",
   "execution_count": null,
   "metadata": {},
   "outputs": [],
   "source": [
    "# Fix the error in the following code\n",
    "# 修复以下代码中的错误\n",
    "print(\"\"\"There are 366 \n",
    "days in a leap year\"\"\")"
   ]
  },
  {
   "cell_type": "markdown",
   "metadata": {},
   "source": [
    "A foot was defined as exactly 0.3048 meters in 1959. Convert 6 feet to meters.\n",
    "\n",
    "1959年，一英尺被定义为恰好0.3048米。将6英尺转换为米。"
   ]
  },
  {
   "cell_type": "code",
   "execution_count": null,
   "metadata": {},
   "outputs": [],
   "source": [
    "# Write code to convert 6 feet to meters\n",
    "# 编写代码将6英尺转换为米\n",
    "print(6 * 0.3048)"
   ]
  }
 ],
 "metadata": {
  "kernelspec": {
   "display_name": "Python 3 (ipykernel)",
   "language": "python",
   "name": "python3"
  },
  "language_info": {
   "codemirror_mode": {
    "name": "ipython",
    "version": 3
   },
   "file_extension": ".py",
   "name": "python",
   "nbconvert_exporter": "python",
   "pygments_lexer": "ipython3",
   "version": "3.9.19"
  }
 },
 "nbformat": 4,
 "nbformat_minor": 4
}