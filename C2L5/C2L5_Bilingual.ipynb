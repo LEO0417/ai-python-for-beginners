{
 "cells": [
  {
   "cell_type": "markdown",
   "metadata": {},
   "source": [
    "# Lesson 5 - Comparing data in Python\n",
    "# 第5课 - 在Python中比较数据"
   ]
  },
  {
   "cell_type": "code",
   "execution_count": null,
   "metadata": {},
   "outputs": [],
   "source": [
    "from helper_functions import print_llm_response, get_llm_response"
   ]
  },
  {
   "cell_type": "markdown",
   "metadata": {},
   "source": [
    "Take a closer look at the True/False variable you saw at the end of the last lesson.\n",
    "\n",
    "仔细看看您在上一课末尾看到的True/False变量。"
   ]
  },
  {
   "cell_type": "code",
   "execution_count": null,
   "metadata": {},
   "outputs": [],
   "source": [
    "food_preferences_tommy = {\n",
    "    # \"dietary_restrictions\": \"vegetarian\",\n",
    "    \"favorite_ingredients\": [\"mushrooms\", \"olives\"],\n",
    "    \"experience_level\": \"intermediate\",\n",
    "    \"maximum_spice_level\": 6\n",
    "}"
   ]
  },
  {
   "cell_type": "markdown",
   "metadata": {},
   "source": [
    "You added the element `\"is_vegetarian\"` with a value equal to `True`\n",
    "\n",
    "您添加了元素`\"is_vegetarian\"`，其值等于`True`"
   ]
  },
  {
   "cell_type": "code",
   "execution_count": null,
   "metadata": {},
   "outputs": [],
   "source": [
    "food_preferences_tommy[\"is_vegetarian\"] = True"
   ]
  },
  {
   "cell_type": "markdown",
   "metadata": {},
   "source": [
    "This type of data is known as booleans. It can take only two values: `True` or `False`.\n",
    "\n",
    "这种数据类型称为布尔值。它只能取两个值：`True`或`False`。"
   ]
  },
  {
   "cell_type": "code",
   "execution_count": null,
   "metadata": {},
   "outputs": [],
   "source": [
    "print(food_preferences_tommy)"
   ]
  },
  {
   "cell_type": "markdown",
   "metadata": {},
   "source": [
    "## True and False\n",
    "## True和False\n",
    "\n",
    "`True` and `False` may look like strings without quotation marks. They are the two values that booleans can take.\n",
    "\n",
    "`True`和`False`可能看起来像没有引号的字符串。它们是布尔值可以取的两个值。"
   ]
  },
  {
   "cell_type": "code",
   "execution_count": null,
   "metadata": {},
   "outputs": [],
   "source": [
    "print(True)\n",
    "print(False)"
   ]
  },
  {
   "cell_type": "markdown",
   "metadata": {},
   "source": [
    "Below, you can check the type for each of these values.\n",
    "\n",
    "下面，您可以检查这些值的类型。"
   ]
  },
  {
   "cell_type": "code",
   "execution_count": null,
   "metadata": {},
   "outputs": [],
   "source": [
    "type(True)"
   ]
  },
  {
   "cell_type": "code",
   "execution_count": null,
   "metadata": {},
   "outputs": [],
   "source": [
    "type(False)"
   ]
  },
  {
   "cell_type": "markdown",
   "metadata": {},
   "source": [
    "If you're curious, ask chatbot why it's called Boolean\n",
    "\n",
    "如果您好奇，问聊天机器人为什么叫Boolean\n",
    "\n",
    "<p style=\"background-color:#F5C780; padding:15px\"> 🤖 <b>Use the Chatbot</b>: Why is the True or False data type called a Boolean?\n",
    "</p>\n",
    "\n",
    "<p style=\"background-color:#F5C780; padding:15px\"> 🤖 <b>使用聊天机器人</b>：为什么True或False数据类型称为Boolean？\n",
    "</p>"
   ]
  },
  {
   "cell_type": "markdown",
   "metadata": {},
   "source": [
    "As with any other data type, you can assign booleans to variables:\n",
    "\n",
    "与任何其他数据类型一样，您可以将布尔值分配给变量："
   ]
  },
  {
   "cell_type": "code",
   "execution_count": null,
   "metadata": {},
   "outputs": [],
   "source": [
    "is_tommy_my_friend = True"
   ]
  },
  {
   "cell_type": "code",
   "execution_count": null,
   "metadata": {},
   "outputs": [],
   "source": [
    "is_isabel_older_than_me = False"
   ]
  },
  {
   "cell_type": "code",
   "execution_count": null,
   "metadata": {},
   "outputs": [],
   "source": [
    "print(is_tommy_my_friend)"
   ]
  },
  {
   "cell_type": "code",
   "execution_count": null,
   "metadata": {},
   "outputs": [],
   "source": [
    "print(is_isabel_older_than_me)"
   ]
  },
  {
   "cell_type": "code",
   "execution_count": null,
   "metadata": {},
   "outputs": [],
   "source": [
    "type(is_isabel_older_than_me)"
   ]
  },
  {
   "cell_type": "markdown",
   "metadata": {},
   "source": [
    "### Comparison Operators\n",
    "### 比较运算符\n",
    "\n",
    "Booleans are what you get back when you compare variables in python. For example, here are the ages for Isabel, Daniel and Tommy:\n",
    "\n",
    "布尔值是您在Python中比较变量时得到的结果。例如，这里是Isabel、Daniel和Tommy的年龄："
   ]
  },
  {
   "cell_type": "code",
   "execution_count": null,
   "metadata": {},
   "outputs": [],
   "source": [
    "isabel_age = 28\n",
    "daniel_age = 30\n",
    "tommy_age = 30"
   ]
  },
  {
   "cell_type": "markdown",
   "metadata": {},
   "source": [
    "In Python you can compare values using the same operator you probably encounter in math classes. Let's start determining if Isabel is older than Daniel using `>`.\n",
    "\n",
    "在Python中，您可以使用在数学课上可能遇到的相同运算符来比较值。让我们开始使用`>`确定Isabel是否比Daniel大。"
   ]
  },
  {
   "cell_type": "code",
   "execution_count": null,
   "metadata": {},
   "outputs": [],
   "source": [
    "print(isabel_age > daniel_age)"
   ]
  },
  {
   "cell_type": "markdown",
   "metadata": {},
   "source": [
    "Now, let's determine if she is younger using `<`:\n",
    "\n",
    "现在，让我们使用`<`确定她是否更年轻："
   ]
  },
  {
   "cell_type": "code",
   "execution_count": null,
   "metadata": {},
   "outputs": [],
   "source": [
    "print(isabel_age < daniel_age)"
   ]
  },
  {
   "cell_type": "code",
   "execution_count": null,
   "metadata": {},
   "outputs": [],
   "source": [
    "is_isabel_older_than_daniel = isabel_age > daniel_age\n",
    "print(is_isabel_older_than_daniel)"
   ]
  },
  {
   "cell_type": "markdown",
   "metadata": {},
   "source": [
    "You can also use `<=` and `>=` to check if one number is greater than or equal to the other, or if it is lower than or equal to the other.\n",
    "\n",
    "您也可以使用`<=`和`>=`来检查一个数字是否大于或等于另一个数字，或者是否小于或等于另一个数字。"
   ]
  },
  {
   "cell_type": "code",
   "execution_count": null,
   "metadata": {},
   "outputs": [],
   "source": [
    "print(isabel_age <= daniel_age)"
   ]
  },
  {
   "cell_type": "markdown",
   "metadata": {},
   "source": [
    "Since Daniel and Tommy are the same age, when you use `<=` and `>=` you will get `True` for both cases:\n",
    "\n",
    "由于Daniel和Tommy同龄，当您使用`<=`和`>=`时，两种情况都会得到`True`："
   ]
  },
  {
   "cell_type": "code",
   "execution_count": null,
   "metadata": {},
   "outputs": [],
   "source": [
    "print(tommy_age < daniel_age)"
   ]
  },
  {
   "cell_type": "code",
   "execution_count": null,
   "metadata": {},
   "outputs": [],
   "source": [
    "print(tommy_age <= daniel_age)"
   ]
  },
  {
   "cell_type": "markdown",
   "metadata": {},
   "source": [
    "### Equality Operator\n",
    "### 等于运算符\n",
    "\n",
    "So, what if you want to check if two things are equal? You would need to use `==`.\n",
    "\n",
    "那么，如果您想检查两个东西是否相等怎么办？您需要使用`==`。\n",
    "\n",
    "- `=` is an assignment operator, it assigns values to variables\n",
    "- `==` is a comparison operator, it checks if two things are holding the same value, or if two pieces of data are equal\n",
    "\n",
    "- `=`是赋值运算符，它将值赋给变量\n",
    "- `==`是比较运算符，它检查两个东西是否持有相同的值，或者两个数据片段是否相等"
   ]
  },
  {
   "cell_type": "markdown",
   "metadata": {},
   "source": [
    "So, going back to comparing Daniel's and Tommy's age:\n",
    "\n",
    "因此，回到比较Daniel和Tommy的年龄："
   ]
  },
  {
   "cell_type": "code",
   "execution_count": null,
   "metadata": {},
   "outputs": [],
   "source": [
    "print(tommy_age == daniel_age)"
   ]
  },
  {
   "cell_type": "markdown",
   "metadata": {},
   "source": [
    "And Isabel's and Daniel's:\n",
    "\n",
    "以及Isabel和Daniel的："
   ]
  },
  {
   "cell_type": "code",
   "execution_count": null,
   "metadata": {},
   "outputs": [],
   "source": [
    "print(isabel_age == daniel_age)"
   ]
  },
  {
   "cell_type": "markdown",
   "metadata": {},
   "source": [
    "This operator works for strings too. Here you have definitive proof that a vegetarian is not the same as a vegan.\n",
    "\n",
    "这个运算符也适用于字符串。在这里，您有明确的证据表明素食主义者与纯素食主义者不同。"
   ]
  },
  {
   "cell_type": "code",
   "execution_count": null,
   "metadata": {},
   "outputs": [],
   "source": [
    "# strings\n",
    "# 字符串\n",
    "print(\"vegetarian\" == \"vegan\")"
   ]
  },
  {
   "cell_type": "markdown",
   "metadata": {},
   "source": [
    "### Logical Operators\n",
    "### 逻辑运算符"
   ]
  },
  {
   "cell_type": "markdown",
   "metadata": {},
   "source": [
    "Operations with booleans involve logical operators like `and` and `or`. Let's define a couple of boolean variables:\n",
    "\n",
    "涉及布尔值的操作包括逻辑运算符，如`and`和`or`。让我们定义几个布尔变量："
   ]
  },
  {
   "cell_type": "code",
   "execution_count": null,
   "metadata": {},
   "outputs": [],
   "source": [
    "is_tommy_my_friend = True\n",
    "is_isabel_my_friend = True"
   ]
  },
  {
   "cell_type": "markdown",
   "metadata": {},
   "source": [
    "If you want to check whether both Tommy and Isabel are your friends, you can use the `and` operator:\n",
    "\n",
    "如果您想检查Tommy和Isabel是否都是您的朋友，您可以使用`and`运算符："
   ]
  },
  {
   "cell_type": "code",
   "execution_count": null,
   "metadata": {},
   "outputs": [],
   "source": [
    "print(is_tommy_my_friend and is_isabel_my_friend)"
   ]
  },
  {
   "cell_type": "markdown",
   "metadata": {},
   "source": [
    "If you want to check whether at least one of them is your friend, you can use the `or` operator:\n",
    "\n",
    "如果您想检查其中至少一个是否是您的朋友，您可以使用`or`运算符："
   ]
  },
  {
   "cell_type": "code",
   "execution_count": null,
   "metadata": {},
   "outputs": [],
   "source": [
    "print(is_tommy_my_friend or is_isabel_my_friend)"
   ]
  },
  {
   "cell_type": "markdown",
   "metadata": {},
   "source": [
    "Let's say that Isabel, Tommy and Daniel are playing a game involving their ages:\n",
    "\n",
    "假设Isabel、Tommy和Daniel正在玩一个涉及他们年龄的游戏："
   ]
  },
  {
   "cell_type": "code",
   "execution_count": null,
   "metadata": {},
   "outputs": [],
   "source": [
    "isabel_age = 28\n",
    "daniel_age = 30\n",
    "otto_age = 29"
   ]
  },
  {
   "cell_type": "markdown",
   "metadata": {},
   "source": [
    "The game involves checking whether Isabel is younger than both Tommy and Daniel:\n",
    "\n",
    "游戏涉及检查Isabel是否比Tommy和Daniel都年轻："
   ]
  },
  {
   "cell_type": "code",
   "execution_count": null,
   "metadata": {},
   "outputs": [],
   "source": [
    "is_isabel_younger_than_tommy = isabel_age < tommy_age\n",
    "is_isabel_younger_than_daniel = isabel_age < daniel_age"
   ]
  },
  {
   "cell_type": "code",
   "execution_count": null,
   "metadata": {},
   "outputs": [],
   "source": [
    "print(is_isabel_younger_than_tommy and is_isabel_younger_than_daniel)"
   ]
  },
  {
   "cell_type": "markdown",
   "metadata": {},
   "source": [
    "In the next video, you will use booleans to write programs that execute different lines of code depending on the boolean value.\n",
    "\n",
    "在下一个视频中，您将使用布尔值来编写根据布尔值执行不同代码行的程序。"
   ]
  },
  {
   "cell_type": "markdown",
   "metadata": {},
   "source": [
    "## Extra practice\n",
    "## 额外练习"
   ]
  },
  {
   "cell_type": "markdown",
   "metadata": {},
   "source": [
    "Please go through the exercises in the cells below if you want some extra practice for the topics you covered in this lesson.\n",
    "\n",
    "如果您想对本课涵盖的主题进行额外练习，请完成下面单元格中的练习。"
   ]
  },
  {
   "cell_type": "code",
   "execution_count": null,
   "metadata": {},
   "outputs": [],
   "source": [
    "# Check whether Isabel is older\n",
    "# than at least one of my friends (Tommy and Daniel)\n",
    "# 检查Isabel是否比我的至少一个朋友（Tommy和Daniel）年长\n",
    "\n",
    "### EDIT THE FOLLOWING CODE ###\n",
    "# Hint: Replace the \"?\" with the correct comparison operator\n",
    "# 提示：用正确的比较运算符替换\"?\"\n",
    "is_isabel_older_than_tommy = isabel_age ? tommy_age\n",
    "is_isabel_older_than_daniel = isabel_age ? daniel_age\n",
    "### --------------- ###\n",
    "\n",
    "### EDIT THE FOLLOWING CODE ###\n",
    "# Hint: Recall the logical operators \"and\" and \"or\" \n",
    "# 提示：回忆逻辑运算符\"and\"和\"or\"\n",
    "print(\"Check if Isabel is older than at least one of my friends\")\n",
    "### --------------- ###"
   ]
  }
 ],
 "metadata": {
  "kernelspec": {
   "display_name": "Python 3",
   "language": "python",
   "name": "python3"
  },
  "language_info": {
   "codemirror_mode": {
    "name": "ipython",
    "version": 3
   },
   "file_extension": ".py",
   "mimetype": "text/x-python",
   "name": "python",
   "nbconvert_exporter": "python",
   "pygments_lexer": "ipython3",
   "version": "3.8.0"
  }
 },
 "nbformat": 4,
 "nbformat_minor": 4
}