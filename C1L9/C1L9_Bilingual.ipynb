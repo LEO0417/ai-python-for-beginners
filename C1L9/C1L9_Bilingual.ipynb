{
 "cells": [
  {
   "cell_type": "markdown",
   "id": "817221c9",
   "metadata": {},
   "source": [
    "# L9: Building LLM prompts with variables\n",
    "# 第9课：使用变量构建LLM提示词"
   ]
  },
  {
   "cell_type": "markdown",
   "id": "36029c06",
   "metadata": {},
   "source": [
    "In the next cell, you will import the function `print_llm_response` that uses an LLM with an instruction that you provide as a string and displays the result.\n",
    "\n",
    "在下一个单元格中，你将导入函数 `print_llm_response`，该函数使用LLM处理你提供的字符串指令并显示结果。"
   ]
  },
  {
   "cell_type": "code",
   "execution_count": null,
   "id": "cc237f34",
   "metadata": {},
   "outputs": [],
   "source": [
    "# 从辅助函数模块导入print_llm_response函数\n",
    "# Import the print_llm_response function from helper functions module\n",
    "from helper_functions import print_llm_response"
   ]
  },
  {
   "cell_type": "markdown",
   "id": "3074c1f9",
   "metadata": {},
   "source": [
    "Basically, you can use that function as if you were asking a chatbot. You just need to provide your instructions as a string. For instance, you can ask \"What is the capital of France?\" using the following code:\n",
    "\n",
    "基本上，你可以像与聊天机器人对话一样使用这个函数。你只需要将指令作为字符串提供。例如，你可以使用以下代码询问\"法国的首都是什么？\"："
   ]
  },
  {
   "cell_type": "code",
   "execution_count": null,
   "id": "afcf6686",
   "metadata": {},
   "outputs": [],
   "source": [
    "# 询问法国的首都\n",
    "# Ask about the capital of France\n",
    "print_llm_response(\"What is the capital of France?\")"
   ]
  },
  {
   "cell_type": "markdown",
   "id": "7e164d69",
   "metadata": {},
   "source": [
    "Let's ask the LLM for the lifestyle description for Otto Matic, whose name is stored in `name`, if he were a `dog_age` years old dog.\n",
    "\n",
    "让我们询问LLM关于Otto Matic的生活方式描述，他的名字存储在变量 `name` 中，假设他是一只 `dog_age` 岁的狗。"
   ]
  },
  {
   "cell_type": "code",
   "execution_count": null,
   "id": "196644ca",
   "metadata": {},
   "outputs": [],
   "source": [
    "# 定义变量\n",
    "# Define variables\n",
    "name = \"Otto Matic\"\n",
    "dog_age = 21/7  # 计算狗的年龄 / Calculate dog age"
   ]
  },
  {
   "cell_type": "code",
   "execution_count": null,
   "id": "ad18f441",
   "metadata": {},
   "outputs": [],
   "source": [
    "# 使用f-string格式化字符串，将变量插入到提示词中\n",
    "# Use f-string formatting to insert variables into the prompt\n",
    "print_llm_response(f\"\"\"If {name} were a dog, he would be {dog_age} years old.\n",
    "Describe what life stage that would be for a dog and what that might \n",
    "entail in terms of energy level, interests, and behavior.\"\"\")"
   ]
  },
  {
   "cell_type": "markdown",
   "id": "8349cb53",
   "metadata": {},
   "source": [
    "<b>You just used AI with your own variables!</b> You used an LLM with instructions that included variables you defined in this notebook.\n",
    "\n",
    "<b>Congratulations 🎉🎉🎉</b>\n",
    "\n",
    "<b>你刚刚使用了自己的变量来调用AI！</b> 你使用了包含在此笔记本中定义的变量的指令来调用LLM。\n",
    "\n",
    "<b>恭喜你 🎉🎉🎉</b>"
   ]
  },
  {
   "cell_type": "markdown",
   "id": "51181411",
   "metadata": {},
   "source": [
    "## Variable names restrictions\n",
    "## 变量名限制"
   ]
  },
  {
   "cell_type": "markdown",
   "id": "89d94522",
   "metadata": {},
   "source": [
    "The following variable names also have some problems. Try to fix them yourself or use the help from the chatbot.\n",
    "\n",
    "以下变量名存在一些问题。尝试自己修复它们，或者使用聊天机器人的帮助。"
   ]
  },
  {
   "cell_type": "code",
   "execution_count": null,
   "id": "af96e951",
   "metadata": {},
   "outputs": [],
   "source": [
    "# 这些变量名有语法错误，需要修复\n",
    "# These variable names have syntax errors and need to be fixed\n",
    "driver = \"unicorn\"\n",
    "# driver's vehicle = \"colorful, asymmetric dinosaur car\"  # 错误：不能使用撇号\n",
    "drivers_vehicle = \"colorful, asymmetric dinosaur car\"  # 修复：使用下划线\n",
    "# favorite planet = \"Pluto\"  # 错误：变量名不能有空格，缺少结束引号\n",
    "favorite_planet = \"Pluto\"  # 修复：使用下划线，添加结束引号"
   ]
  },
  {
   "cell_type": "markdown",
   "id": "59a3a881",
   "metadata": {},
   "source": [
    "Now, update the next cell with any changes you made in the previous cell.\n",
    "\n",
    "现在，使用你在上一个单元格中所做的更改来更新下一个单元格。"
   ]
  },
  {
   "cell_type": "code",
   "execution_count": null,
   "id": "02b7e02c",
   "metadata": {},
   "outputs": [],
   "source": [
    "# 使用修复后的变量名\n",
    "# Use the fixed variable names\n",
    "print_llm_response(f\"\"\"Write me a 300 word children's story about a {driver} racing\n",
    "a {drivers_vehicle} for the {favorite_planet} champion cup.\"\"\")"
   ]
  },
  {
   "cell_type": "markdown",
   "id": "98ec7de7",
   "metadata": {},
   "source": [
    "## Extra practice\n",
    "## 额外练习\n",
    "\n",
    "Try the exercises below to practice the concepts from this lesson. Read the comments in each cell with the instructions for each exercise.\n",
    "\n",
    "尝试下面的练习来练习本课的概念。阅读每个单元格中的注释，了解每个练习的说明。\n",
    "\n",
    "<b>Feel free to use the chatbot if you need help.</b>\n",
    "\n",
    "<b>如果需要帮助，请随时使用聊天机器人。</b>"
   ]
  },
  {
   "cell_type": "code",
   "execution_count": null,
   "id": "9fb2bd26",
   "metadata": {},
   "outputs": [],
   "source": [
    "# Fix this code\n",
    "# 修复这段代码\n",
    "# 1favorite-book = \"1001 Ways to Wear a Hat\"  # 错误：变量名不能以数字开头，不能有连字符\n",
    "# \"2002 Ways to Wear a Scarf\" = second_fav_book  # 错误：赋值顺序错误\n",
    "# print(f\"My most favorite book is {1favorite-book}, but I also like {second_fav_book})\")  # 错误：缺少结束引号\n",
    "\n",
    "# 修复后的代码 / Fixed code:\n",
    "favorite_book = \"1001 Ways to Wear a Hat\"\n",
    "second_fav_book = \"2002 Ways to Wear a Scarf\"\n",
    "print(f\"My most favorite book is {favorite_book}, but I also like {second_fav_book}\")"
   ]
  },
  {
   "cell_type": "code",
   "execution_count": null,
   "id": "407023e6",
   "metadata": {},
   "outputs": [],
   "source": [
    "# Make variables for your favorite game, movie, and food.\n",
    "# Then use print_llm_response to ask the LLM to recommend you\n",
    "# a new song to listen to based on your likes.\n",
    "\n",
    "# 为你最喜欢的游戏、电影和食物创建变量。\n",
    "# 然后使用print_llm_response让LLM根据你的喜好推荐一首新歌。\n",
    "\n",
    "# 定义你的喜好变量 / Define your preference variables\n",
    "favorite_game = \"Minecraft\"  # 替换为你最喜欢的游戏 / Replace with your favorite game\n",
    "favorite_movie = \"The Matrix\"  # 替换为你最喜欢的电影 / Replace with your favorite movie\n",
    "favorite_food = \"Pizza\"  # 替换为你最喜欢的食物 / Replace with your favorite food\n",
    "\n",
    "print_llm_response(f\"\"\"Based on my preferences, I love playing {favorite_game}, \n",
    "watching {favorite_movie}, and eating {favorite_food}. \n",
    "Can you recommend a song that might match my taste?\"\"\")"
   ]
  }
 ],
 "metadata": {
  "kernelspec": {
   "display_name": "base",
   "language": "python",
   "name": "python3"
  },
  "language_info": {
   "codemirror_mode": {
    "name": "ipython",
    "version": 3
   },
   "file_extension": ".py",
   "mimetype": "text/x-python",
   "name": "python",
   "nbconvert_exporter": "python",
   "pygments_lexer": "ipython3",
   "version": "3.12.7"
  }
 },
 "nbformat": 4,
 "nbformat_minor": 5
}
