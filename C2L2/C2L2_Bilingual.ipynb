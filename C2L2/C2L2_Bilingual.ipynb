{
 "cells": [
  {
   "cell_type": "markdown",
   "metadata": {},
   "source": [
    "# Lesson 2 - Repeating tasks with for loops\n",
    "# 第2课 - 使用for循环重复任务"
   ]
  },
  {
   "cell_type": "markdown",
   "metadata": {},
   "source": [
    "This lesson will introduce you to a very important concept in programming: the `for` loop. A `for` loop is a special code pattern found in many languages that allows you to repeatedly perform actions on all the items in a list in an automated way. Let's take a look by starting with loading some functions.\n",
    "\n",
    "本课将向您介绍编程中一个非常重要的概念：`for`循环。`for`循环是许多编程语言中的一种特殊代码模式，它允许您以自动化的方式对列表中的所有项目重复执行操作。让我们从加载一些函数开始。"
   ]
  },
  {
   "cell_type": "code",
   "execution_count": null,
   "metadata": {},
   "outputs": [],
   "source": [
    "from helper_functions import print_llm_response, get_llm_response"
   ]
  },
  {
   "cell_type": "markdown",
   "metadata": {},
   "source": [
    "## From previous lesson\n",
    "## 从上一课开始\n",
    "\n",
    "At the end of last lesson you saw this list of tasks\n",
    "\n",
    "在上一课的最后，您看到了这个任务列表"
   ]
  },
  {
   "cell_type": "code",
   "execution_count": null,
   "metadata": {},
   "outputs": [],
   "source": [
    "# from previous lesson:\n",
    "# 从上一课：\n",
    "list_of_tasks = [\n",
    "    \"Compose a brief email to my boss explaining that I will be late for tomorrow's meeting.\",\n",
    "    \"Write a birthday poem for Otto, celebrating his 28th birthday.\",\n",
    "    \"Write a 300-word review of the movie 'The Arrival'.\"\n",
    "]\n",
    "print(list_of_tasks)"
   ]
  },
  {
   "cell_type": "markdown",
   "metadata": {},
   "source": [
    "You passed them one by one to the LLM, repeatedly updated the task variable, then re-executed the function call with this code:\n",
    "\n",
    "您将它们一个一个地传递给LLM，重复更新任务变量，然后使用此代码重新执行函数调用："
   ]
  },
  {
   "cell_type": "code",
   "execution_count": null,
   "metadata": {},
   "outputs": [],
   "source": [
    "task = list_of_tasks[0]\n",
    "print_llm_response(task)"
   ]
  },
  {
   "cell_type": "markdown",
   "metadata": {},
   "source": [
    "If you wanted to complete all the tasks in your list, you would have to re-write the same code multiple times. Alternatively, you can use a `for` loop.\n",
    "\n",
    "如果您想完成列表中的所有任务，您必须多次重写相同的代码。或者，您可以使用`for`循环。"
   ]
  },
  {
   "cell_type": "markdown",
   "metadata": {},
   "source": [
    "## Iterating through task lists with AI\n",
    "## 使用AI遍历任务列表"
   ]
  },
  {
   "cell_type": "markdown",
   "metadata": {},
   "source": [
    "When you run the cell below you will see how the for loop iterates through the elements in `list_of_tasks`.\n",
    "\n",
    "当您运行下面的单元格时，您将看到for循环如何遍历`list_of_tasks`中的元素。"
   ]
  },
  {
   "cell_type": "code",
   "execution_count": null,
   "metadata": {},
   "outputs": [],
   "source": [
    "for task in list_of_tasks:\n",
    "    print(task)"
   ]
  },
  {
   "cell_type": "markdown",
   "metadata": {},
   "source": [
    "Here's the code that automatically passes all items in list to `print_llm_response`\n",
    "\n",
    "这是自动将列表中的所有项目传递给`print_llm_response`的代码"
   ]
  },
  {
   "cell_type": "code",
   "execution_count": null,
   "metadata": {},
   "outputs": [],
   "source": [
    "for task in list_of_tasks:\n",
    "    print_llm_response(task)"
   ]
  },
  {
   "cell_type": "markdown",
   "metadata": {},
   "source": [
    "Let's break this down.\n",
    "\n",
    "让我们分解一下。\n",
    "\n",
    "The `for task in list` pattern works as follows:\n",
    "\n",
    "`for task in list`模式的工作原理如下：\n",
    "\n",
    "- `task` is assigned the first item in the list. In this case, it's the string `\"Compose a brief email to my boss explaining that I will be late for tomorrow's meeting.\"`\n",
    "- The next indented line is called a block and contains an action to carry out on `task`. In this example, the string gets passed to the LLM, and the result appears on the screen.\n",
    "- Then the loop starts again. Now, `task` is assigned the string \"Write a birthday poem for Otto, celebrating his 28th birthday.\" It's the same variable, but with a different value.\n",
    "- `get_llm_response` runs again, and so on.\n",
    "\n",
    "- `task`被分配列表中的第一项。在这种情况下，它是字符串`\"给我的老板写一封简短的邮件，解释我明天的会议会迟到。\"`\n",
    "- 下一个缩进行被称为块，包含对`task`执行的操作。在这个例子中，字符串被传递给LLM，结果显示在屏幕上。\n",
    "- 然后循环再次开始。现在，`task`被分配字符串\"为Otto写一首生日诗，庆祝他的28岁生日。\"这是同一个变量，但有不同的值。\n",
    "- `get_llm_response`再次运行，以此类推。\n",
    "\n",
    "Be sure to call out the `:` at the end of the line. Indentation is crucial; if it's not correct, you'll get an error.\n",
    "\n",
    "确保注意行末的`:`。缩进非常重要；如果不正确，您将收到错误。"
   ]
  },
  {
   "cell_type": "code",
   "execution_count": null,
   "metadata": {},
   "outputs": [],
   "source": [
    "for task in list_of_tasks:\n",
    "print_llm_response(task)"
   ]
  },
  {
   "cell_type": "markdown",
   "metadata": {},
   "source": [
    "<p style=\"background-color:#F5C780; padding:15px\"> 🤖 <b>Use the Chatbot</b>: Explain indentation error and help me fix it in this for loop: <br>\n",
    "for task in list_of_tasks:<br>\n",
    "print_llm_response(task)\n",
    "</p>\n",
    "\n",
    "<p style=\"background-color:#F5C780; padding:15px\"> 🤖 <b>使用聊天机器人</b>：解释缩进错误并帮助我修复这个for循环中的问题：<br>\n",
    "for task in list_of_tasks:<br>\n",
    "print_llm_response(task)\n",
    "</p>"
   ]
  },
  {
   "cell_type": "markdown",
   "metadata": {},
   "source": [
    "## Iteratively updating AI prompts using lists\n",
    "## 使用列表迭代更新AI提示"
   ]
  },
  {
   "cell_type": "markdown",
   "metadata": {},
   "source": [
    "You can even use lists with for loops to iteratively update more complex prompts with the list items. For instance, let's say that you have a list of ice-cream flavors:\n",
    "\n",
    "您甚至可以使用列表和for循环来迭代地用列表项更新更复杂的提示。例如，假设您有一个冰淇淋口味列表："
   ]
  },
  {
   "cell_type": "code",
   "execution_count": null,
   "metadata": {},
   "outputs": [],
   "source": [
    "# ice cream flavor example\n",
    "# 冰淇淋口味示例\n",
    "ice_cream_flavors = [\n",
    "    \"Vanilla\",\n",
    "    \"Chocolate\",\n",
    "    \"Strawberry\",\n",
    "    \"Mint Chocolate Chip\"\n",
    "]"
   ]
  },
  {
   "cell_type": "markdown",
   "metadata": {},
   "source": [
    "You can use a for loop to iterate through the flavors and create a captivating description for each of them.\n",
    "\n",
    "您可以使用for循环遍历这些口味，并为每种口味创建一个引人注目的描述。"
   ]
  },
  {
   "cell_type": "code",
   "execution_count": null,
   "metadata": {},
   "outputs": [],
   "source": [
    "for flavor in ice_cream_flavors:\n",
    "    prompt = f\"\"\"For the ice cream flavor listed below, \n",
    "    provide a captivating description that could be used for promotional purposes.\n",
    "\n",
    "    Flavor: {flavor}\n",
    "\n",
    "    \"\"\"\n",
    "    print_llm_response(prompt)"
   ]
  },
  {
   "cell_type": "markdown",
   "metadata": {},
   "source": [
    "Now that you know how to use lists, you can even save the promotional descriptions to another list using `.append()`:\n",
    "\n",
    "现在您知道如何使用列表，您甚至可以使用`.append()`将宣传描述保存到另一个列表中："
   ]
  },
  {
   "cell_type": "code",
   "execution_count": null,
   "metadata": {},
   "outputs": [],
   "source": [
    "# saving results to a list\n",
    "# 将结果保存到列表中\n",
    "promotional_descriptions = []\n",
    "for flavor in ice_cream_flavors:\n",
    "    prompt = f\"\"\"For the ice cream flavor listed below, \n",
    "    provide a captivating description that could be used for promotional purposes.\n",
    "\n",
    "    Flavor: {flavor}\n",
    "\n",
    "    \"\"\"\n",
    "    description = get_llm_response(prompt)\n",
    "    promotional_descriptions.append(description)"
   ]
  },
  {
   "cell_type": "markdown",
   "metadata": {},
   "source": [
    "After you run that code, you should be able to access the promotional descriptions for each of your ice-cream flavors.\n",
    "\n",
    "运行该代码后，您应该能够访问每种冰淇淋口味的宣传描述。"
   ]
  },
  {
   "cell_type": "code",
   "execution_count": null,
   "metadata": {},
   "outputs": [],
   "source": [
    "print(promotional_descriptions)"
   ]
  },
  {
   "cell_type": "markdown",
   "metadata": {},
   "source": [
    "## Extra practice\n",
    "## 额外练习"
   ]
  },
  {
   "cell_type": "markdown",
   "metadata": {},
   "source": [
    "Please go through the exercises in the cells below if you want some extra practice for the topics you covered in this lesson.\n",
    "\n",
    "如果您想对本课涵盖的主题进行额外练习，请完成下面单元格中的练习。"
   ]
  },
  {
   "cell_type": "code",
   "execution_count": null,
   "metadata": {},
   "outputs": [],
   "source": [
    "# Fix the following code.\n",
    "# It should print the flavors in\n",
    "# ice_cream_flavors one by one.\n",
    "# 修复以下代码。\n",
    "# 它应该一个一个地打印ice_cream_flavors中的口味。\n",
    "\n",
    "ice_cream_flavors = [\"Chocolate\", \"Mint Chocolate Chip\"]\n",
    "\n",
    "### EDIT THE FOLLOWING CODE ###\n",
    "for flavor in ice_cream_flavors;\n",
    "    print(ice_cream_flavors)\n",
    "### --------------- ###"
   ]
  },
  {
   "cell_type": "code",
   "execution_count": null,
   "metadata": {},
   "outputs": [],
   "source": [
    "# Translate the flavors in ice_cream_flavors to Spanish\n",
    "# 将ice_cream_flavors中的口味翻译成西班牙语\n",
    "ice_cream_flavors = [\"Vanilla\", \"Strawberry\"]\n",
    "\n",
    "for flavor in ice_cream_flavors:\n",
    "    ### EDIT THE FOLLOWING CODE ###\n",
    "    # Hint: you only need to add one or two sentences to the prompt\n",
    "    # 提示：您只需要在提示中添加一两个句子\n",
    "    prompt = f\"\"\"For the ice cream flavor listed below, \n",
    "    \n",
    "    \"\"\"\n",
    "    ### --------------- ###\n",
    "    print_llm_response(prompt)"
   ]
  },
  {
   "cell_type": "code",
   "execution_count": null,
   "metadata": {},
   "outputs": [],
   "source": [
    "# Write code to get a list with \n",
    "# words without typos\n",
    "# 编写代码获取没有拼写错误的单词列表\n",
    "\n",
    "words_with_typos = [\"Aple\", \"Wether\", \"Newpaper\"]\n",
    "words_without_typos = []\n",
    "\n",
    "for word in words_with_typos:\n",
    "    prompt = f\"\"\"Fix the spelling mistake in the following word: {word}\n",
    "    Provide only the word.\n",
    "    \"\"\"\n",
    "    correct_word = get_llm_response(prompt)\n",
    "    ### WRITE CODE HERE  ###\n",
    "    # Hint: Append the correct_word to the words_without_typos list \n",
    "    # 提示：将correct_word添加到words_without_typos列表中\n",
    "    ### --------------- ###\n",
    "\n",
    "print(words_without_typos)"
   ]
  }
 ],
 "metadata": {
  "kernelspec": {
   "display_name": "Python 3",
   "language": "python",
   "name": "python3"
  },
  "language_info": {
   "codemirror_mode": {
    "name": "ipython",
    "version": 3
   },
   "file_extension": ".py",
   "mimetype": "text/x-python",
   "name": "python",
   "nbconvert_exporter": "python",
   "pygments_lexer": "ipython3",
   "version": "3.8.0"
  }
 },
 "nbformat": 4,
 "nbformat_minor": 4
}