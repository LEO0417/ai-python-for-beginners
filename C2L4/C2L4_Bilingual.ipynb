{
 "cells": [
  {
   "cell_type": "markdown",
   "metadata": {},
   "source": [
    "# Lesson 4 - Customizing recipes with lists, dictionaries and AI\n",
    "# 第4课 - 使用列表、字典和AI自定义配方"
   ]
  },
  {
   "cell_type": "markdown",
   "metadata": {},
   "source": [
    "In the previous lesson, you went through how to use dictionaries to complete tasks by priority. In this lesson, you will see how you can use dictionaries to update LLM prompts and create food recipes that match your friends preferences, restrictions and cooking experience.\n",
    "\n",
    "在上一课中，您学习了如何使用字典按优先级完成任务。在本课程中，您将看到如何使用字典来更新LLM提示并创建符合您朋友偏好、限制和烹饪经验的食谱。"
   ]
  },
  {
   "cell_type": "code",
   "execution_count": null,
   "metadata": {},
   "outputs": [],
   "source": [
    "from helper_functions import print_llm_response, get_llm_response"
   ]
  },
  {
   "cell_type": "markdown",
   "metadata": {},
   "source": [
    "## Food preference dictionaries\n",
    "## 食物偏好字典\n",
    "\n",
    "Dictionaries are a useful way to organize multiple variables associated with a single entity, like one of your friends. In the next dictionary, you store the food preferences and cooking experience for Tommy.\n",
    "\n",
    "字典是组织与单个实体（如您的朋友之一）相关的多个变量的有用方法。在下一个字典中，您存储Tommy的食物偏好和烹饪经验。"
   ]
  },
  {
   "cell_type": "code",
   "execution_count": null,
   "metadata": {},
   "outputs": [],
   "source": [
    "food_preferences_tommy = {\n",
    "    \"dietary_restrictions\": \"vegetarian\",\n",
    "    \"favorite_ingredients\": [\"tofu\", \"olives\"],\n",
    "    \"experience_level\": \"intermediate\",\n",
    "    \"maximum_spice_level\": 6\n",
    "}"
   ]
  },
  {
   "cell_type": "markdown",
   "metadata": {},
   "source": [
    "As you can see there, that dictionary has four keys, which you can access using `\".keys()\"`:\n",
    "\n",
    "如您所见，该字典有四个键，您可以使用`\".keys()\"`访问："
   ]
  },
  {
   "cell_type": "code",
   "execution_count": null,
   "metadata": {},
   "outputs": [],
   "source": [
    "print(food_preferences_tommy.keys())"
   ]
  },
  {
   "cell_type": "markdown",
   "metadata": {},
   "source": [
    "And it has values with different data types: lists, strings and integers.\n",
    "\n",
    "它具有不同数据类型的值：列表、字符串和整数。"
   ]
  },
  {
   "cell_type": "code",
   "execution_count": null,
   "metadata": {},
   "outputs": [],
   "source": [
    "print(food_preferences_tommy.values())"
   ]
  },
  {
   "cell_type": "markdown",
   "metadata": {},
   "source": [
    "Let's see how you can use these in a prompt to create recipes that take into account your friends dietary preferences.\n",
    "\n",
    "让我们看看如何在提示中使用这些来创建考虑您朋友饮食偏好的食谱。"
   ]
  },
  {
   "cell_type": "markdown",
   "metadata": {},
   "source": [
    "## Using keys and values within AI prompt\n",
    "## 在AI提示中使用键和值"
   ]
  },
  {
   "cell_type": "markdown",
   "metadata": {},
   "source": [
    "So here's a prompt that uses all the information in the dictionary to create a customized recipe\n",
    "\n",
    "这是一个使用字典中所有信息来创建自定义配方的提示"
   ]
  },
  {
   "cell_type": "code",
   "execution_count": null,
   "metadata": {},
   "outputs": [],
   "source": [
    "prompt = f\"\"\"Please suggest a recipe that tries to include \n",
    "the following ingredients: \n",
    "{food_preferences_tommy[\"favorite_ingredients\"]}.\n",
    "The recipe should adhere to the following dietary restrictions:\n",
    "{food_preferences_tommy[\"dietary_restrictions\"]}.\n",
    "The difficulty of the recipe should be: \n",
    "{food_preferences_tommy[\"experience_level\"]}\n",
    "The maximum spice level on a scale of 10 should be: \n",
    "{food_preferences_tommy[\"maximum_spice_level\"]} \n",
    "Provide a two sentence description.\n",
    "\"\"\""
   ]
  },
  {
   "cell_type": "markdown",
   "metadata": {},
   "source": [
    "Run the cell below to print the prompt.\n",
    "\n",
    "运行下面的单元格来打印提示。"
   ]
  },
  {
   "cell_type": "code",
   "execution_count": null,
   "metadata": {},
   "outputs": [],
   "source": [
    "print(prompt)"
   ]
  },
  {
   "cell_type": "markdown",
   "metadata": {},
   "source": [
    "Now, you can use that prompt with an LLM to suggest a recipe to fit Tommy's preferences:\n",
    "\n",
    "现在，您可以使用该提示与LLM一起为Tommy的偏好建议一个食谱："
   ]
  },
  {
   "cell_type": "code",
   "execution_count": null,
   "metadata": {},
   "outputs": [],
   "source": [
    "print_llm_response(prompt)"
   ]
  },
  {
   "cell_type": "markdown",
   "metadata": {},
   "source": [
    "The model followed the instructions. Tommy will be delighted!\n",
    "\n",
    "模型遵循了指示。Tommy会很高兴的！"
   ]
  },
  {
   "cell_type": "markdown",
   "metadata": {},
   "source": [
    "## Refining the prompt with available ingredients\n",
    "## 使用可用食材完善提示"
   ]
  },
  {
   "cell_type": "markdown",
   "metadata": {},
   "source": [
    "You can go a step further and consider the available ingredients at your house. To do so, let's use the following lists:\n",
    "\n",
    "您可以更进一步，考虑您家中可用的食材。为此，让我们使用以下列表："
   ]
  },
  {
   "cell_type": "code",
   "execution_count": null,
   "metadata": {},
   "outputs": [],
   "source": [
    "available_spices = [\"cumin\", \"turmeric\", \"oregano\", \"paprika\"]"
   ]
  },
  {
   "cell_type": "markdown",
   "metadata": {},
   "source": [
    "You can add these directly to the prompt so that the LLM take those into consideration\n",
    "\n",
    "您可以直接将这些添加到提示中，以便LLM考虑这些"
   ]
  },
  {
   "cell_type": "code",
   "execution_count": null,
   "metadata": {},
   "outputs": [],
   "source": [
    "prompt = f\"\"\"Please suggest a recipe that tries to include \n",
    "the following ingredients: \n",
    "{food_preferences_tommy[\"favorite_ingredients\"]}.\n",
    "The recipe should adhere to the following dietary restrictions:\n",
    "{food_preferences_tommy[\"dietary_restrictions\"]}.\n",
    "The difficulty of the recipe should be: \n",
    "{food_preferences_tommy[\"experience_level\"]}\n",
    "The maximum spice level on a scale of 10 should be: \n",
    "{food_preferences_tommy[\"maximum_spice_level\"]} \n",
    "Provide a two sentence description.\n",
    "\n",
    "The recipe should not include spices outside of this list:\n",
    "Spices: {available_spices}\n",
    "\"\"\"\n",
    "print(prompt)"
   ]
  },
  {
   "cell_type": "markdown",
   "metadata": {},
   "source": [
    "Now, get the LLM response to that prompt and assign it to a variable:\n",
    "\n",
    "现在，获取该提示的LLM响应并将其分配给变量："
   ]
  },
  {
   "cell_type": "code",
   "execution_count": null,
   "metadata": {},
   "outputs": [],
   "source": [
    "recipe = get_llm_response(prompt)"
   ]
  },
  {
   "cell_type": "markdown",
   "metadata": {},
   "source": [
    "And print the recipe that considers Tommy's restrictions as well as the available ingredients at your house.\n",
    "\n",
    "并打印考虑Tommy的限制以及您家中可用食材的食谱。"
   ]
  },
  {
   "cell_type": "code",
   "execution_count": null,
   "metadata": {},
   "outputs": [],
   "source": [
    "print(recipe)"
   ]
  },
  {
   "cell_type": "markdown",
   "metadata": {},
   "source": [
    "Try changing the prompt to give you step-by-step instructions and try adding a key-value pair to the dictionary that indicates favorite cuisine.\n",
    "\n",
    "尝试更改提示以给您分步说明，并尝试向字典添加一个键值对，指示最喜欢的菜系。"
   ]
  },
  {
   "cell_type": "markdown",
   "metadata": {},
   "source": [
    "## Looking ahead\n",
    "## 展望未来"
   ]
  },
  {
   "cell_type": "markdown",
   "metadata": {},
   "source": [
    "Let's take another look at `food_preferences_tommy[\"dietary_restrictions\"]`\n",
    "\n",
    "让我们再看看`food_preferences_tommy[\"dietary_restrictions\"]`"
   ]
  },
  {
   "cell_type": "code",
   "execution_count": null,
   "metadata": {},
   "outputs": [],
   "source": [
    "print(food_preferences_tommy[\"dietary_restrictions\"])"
   ]
  },
  {
   "cell_type": "markdown",
   "metadata": {},
   "source": [
    "Here is a different way you could tell Python that Tommy is vegetarian:\n",
    "\n",
    "这是告诉Python Tommy是素食主义者的另一种方法："
   ]
  },
  {
   "cell_type": "code",
   "execution_count": null,
   "metadata": {},
   "outputs": [],
   "source": [
    "food_preferences_tommy[\"is_vegetarian\"] = True"
   ]
  },
  {
   "cell_type": "code",
   "execution_count": null,
   "metadata": {},
   "outputs": [],
   "source": [
    "print(food_preferences_tommy)"
   ]
  },
  {
   "cell_type": "markdown",
   "metadata": {},
   "source": [
    "Go to next video to see what `True` and `False` are and how they work in Python\n",
    "\n",
    "转到下一个视频，看看`True`和`False`是什么以及它们在Python中是如何工作的"
   ]
  },
  {
   "cell_type": "markdown",
   "metadata": {},
   "source": [
    "## Extra practice\n",
    "## 额外练习"
   ]
  },
  {
   "cell_type": "markdown",
   "metadata": {},
   "source": [
    "Please go through the exercises in the cells below if you want some extra practice for the topics you covered in this lesson.\n",
    "\n",
    "如果您想对本课涵盖的主题进行额外练习，请完成下面单元格中的练习。"
   ]
  },
  {
   "cell_type": "code",
   "execution_count": null,
   "metadata": {},
   "outputs": [],
   "source": [
    "# Update the following dictionary \n",
    "# with your own preferences \n",
    "# 使用您自己的偏好更新以下字典\n",
    "\n",
    "### EDIT THE FOLLOWING CODE ###\n",
    "my_food_preferences = {\n",
    "    \"dietary_restrictions\": [],  # List with dietary restrictions / 饮食限制列表\n",
    "    \"favorite_ingredients\": [],  # List with top three favorite ingredients / 最喜欢的三种食材列表\n",
    "    \"experience_level\": \"\",  # Experience level / 经验水平\n",
    "    \"maximum_spice_level\": 0  # Spice level in a scale from 1 to 10 / 1到10的香料水平\n",
    "}\n",
    "### --------------- ###\n",
    "\n",
    "print(my_food_preferences)"
   ]
  },
  {
   "cell_type": "code",
   "execution_count": null,
   "metadata": {},
   "outputs": [],
   "source": [
    "# Modify the following prompt, \n",
    "# without adding more than two sentences,\n",
    "# so that the provided recipe includes detailed instructions.\n",
    "# 修改以下提示，\n",
    "# 不超过两句话，\n",
    "# 使提供的食谱包括详细说明。\n",
    "\n",
    "### EDIT THE FOLLOWING CODE ###\n",
    "# Hint: look at the last sentence in this prompt\n",
    "# 提示：看看这个提示中的最后一句话\n",
    "prompt = f\"\"\"Please suggest a recipe that tries to include \n",
    "the following ingredients: \n",
    "{food_preferences_tommy[\"favorite_ingredients\"]}.\n",
    "The recipe should adhere to the following dietary restrictions:\n",
    "{food_preferences_tommy[\"dietary_restrictions\"]}.\n",
    "The difficulty of the recipe should be: \n",
    "{food_preferences_tommy[\"experience_level\"]}\n",
    "The maximum spice level on a scale of 10 should be: \n",
    "{food_preferences_tommy[\"maximum_spice_level\"]} \n",
    "Provide a two sentence description.\n",
    "\"\"\"\n",
    "### --------------- ###\n",
    "\n",
    "print_llm_response(prompt)"
   ]
  }
 ],
 "metadata": {
  "kernelspec": {
   "display_name": "Python 3",
   "language": "python",
   "name": "python3"
  },
  "language_info": {
   "codemirror_mode": {
    "name": "ipython",
    "version": 3
   },
   "file_extension": ".py",
   "mimetype": "text/x-python",
   "name": "python",
   "nbconvert_exporter": "python",
   "pygments_lexer": "ipython3",
   "version": "3.8.0"
  }
 },
 "nbformat": 4,
 "nbformat_minor": 4
}