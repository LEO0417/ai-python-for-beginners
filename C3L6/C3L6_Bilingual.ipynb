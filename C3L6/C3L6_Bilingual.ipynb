{
 "cells": [
  {
   "cell_type": "markdown",
   "metadata": {},
   "source": [
    "# Lesson 6: Turning code blocks into reusable functions\n",
    "# 第6课：将代码块转换为可重用的函数"
   ]
  },
  {
   "cell_type": "markdown",
   "metadata": {},
   "source": [
    "Through this and the previous courses, you have been using several different **functions**. \n",
    "\n",
    "In this lesson, you'll learn how to create your own, and see how they can help you avoid writing lines of code over and over again.\n",
    "\n",
    "Let's start by importing the helper functions you'll use:\n",
    "\n",
    "在这门课程和之前的课程中，你已经使用了几种不同的**函数**。\n",
    "\n",
    "在这节课中，你将学习如何创建自己的函数，并了解它们如何帮助你避免一遍又一遍地编写相同的代码行。\n",
    "\n",
    "让我们首先导入你将使用的辅助函数："
   ]
  },
  {
   "cell_type": "code",
   "execution_count": null,
   "metadata": {
    "height": 47
   },
   "outputs": [],
   "source": [
    "from helper_functions import print_llm_response\n",
    "from IPython.display import Markdown, display"
   ]
  },
  {
   "cell_type": "markdown",
   "metadata": {},
   "source": [
    "## Revisiting functions you've already used\n",
    "## 回顾你已经使用过的函数\n",
    "\n",
    "Here are some of the functions you've encountered so far in these courses.\n",
    "\n",
    "The `print` function displays data to the screen:\n",
    "\n",
    "以下是你在这些课程中遇到的一些函数。\n",
    "\n",
    "`print`函数将数据显示到屏幕上："
   ]
  },
  {
   "cell_type": "code",
   "execution_count": null,
   "metadata": {
    "height": 30
   },
   "outputs": [],
   "source": [
    "print(\"Hello World!\")"
   ]
  },
  {
   "cell_type": "markdown",
   "metadata": {},
   "source": [
    "The `len` function returns the number of items, or elements, in a list:\n",
    "\n",
    "`len`函数返回列表中项目或元素的数量："
   ]
  },
  {
   "cell_type": "code",
   "execution_count": null,
   "metadata": {
    "height": 98
   },
   "outputs": [],
   "source": [
    "# Create a list of friends\n",
    "# 创建一个朋友列表\n",
    "friends_list = [\"Tommy\", \"Isabel\", \"Daniel\", \"Otto\"]\n",
    "\n",
    "# Return the number of friends in the list\n",
    "# 返回列表中朋友的数量\n",
    "len(friends_list)"
   ]
  },
  {
   "cell_type": "markdown",
   "metadata": {},
   "source": [
    "And you've been using a special helper function called `print_llm_response` to pass prompts to an LLM and display the response to screen:\n",
    "\n",
    "你一直在使用一个名为`print_llm_response`的特殊辅助函数来向LLM传递提示词并在屏幕上显示响应："
   ]
  },
  {
   "cell_type": "code",
   "execution_count": null,
   "metadata": {
    "height": 47
   },
   "outputs": [],
   "source": [
    "# The 'print_llm_response' function is in the helper_functions.py file\n",
    "# 'print_llm_response'函数在helper_functions.py文件中\n",
    "print_llm_response(\"What is the capital of France\")"
   ]
  },
  {
   "cell_type": "markdown",
   "metadata": {},
   "source": [
    "## Defining your own functions\n",
    "## 定义你自己的函数"
   ]
  },
  {
   "cell_type": "markdown",
   "metadata": {},
   "source": [
    "Defining functions can help you avoid typing the same code over and over. \n",
    "\n",
    "For example, to read in the text from different food journals, you'd need to repeat the following code:\n",
    "\n",
    "定义函数可以帮助你避免一遍又一遍地输入相同的代码。\n",
    "\n",
    "例如，要读取不同美食日记的文本，你需要重复以下代码："
   ]
  },
  {
   "cell_type": "code",
   "execution_count": null,
   "metadata": {
    "height": 98
   },
   "outputs": [],
   "source": [
    "# read in the Cape Town journal\n",
    "# 读取开普敦日记\n",
    "f = open(\"cape_town.txt\", \"r\")\n",
    "journal_cape_town = f.read()\n",
    "f.close()\n",
    "print(journal_cape_town)"
   ]
  },
  {
   "cell_type": "code",
   "execution_count": null,
   "metadata": {
    "height": 98
   },
   "outputs": [],
   "source": [
    "# read in the Paris journal\n",
    "# 读取巴黎日记\n",
    "f = open(\"paris.txt\", \"r\")\n",
    "journal_paris = f.read()\n",
    "f.close()\n",
    "print(journal_paris)"
   ]
  },
  {
   "cell_type": "markdown",
   "metadata": {},
   "source": [
    "If you need to load multiple files, you'll have to repeat these three lines for each file.\n",
    "\n",
    "To avoid this, you can instead define a **function** to read in a file and store the contents to a variable:\n",
    "\n",
    "如果你需要加载多个文件，你必须为每个文件重复这三行代码。\n",
    "\n",
    "为了避免这种情况，你可以定义一个**函数**来读取文件并将内容存储到变量中："
   ]
  },
  {
   "cell_type": "code",
   "execution_count": null,
   "metadata": {
    "height": 98
   },
   "outputs": [],
   "source": [
    "def print_journal(file):\n",
    "    f = open(file, \"r\")\n",
    "    journal = f.read()\n",
    "    f.close()\n",
    "    print(journal)"
   ]
  },
  {
   "cell_type": "markdown",
   "metadata": {},
   "source": [
    "Now that you have created this function, you can reuse it to read in different files:\n",
    "\n",
    "现在你已经创建了这个函数，你可以重复使用它来读取不同的文件："
   ]
  },
  {
   "cell_type": "code",
   "execution_count": null,
   "metadata": {
    "height": 47
   },
   "outputs": [],
   "source": [
    "# Read in the Sydney journal\n",
    "# 读取悉尼日记\n",
    "print_journal(\"sydney.txt\")"
   ]
  },
  {
   "cell_type": "markdown",
   "metadata": {},
   "source": [
    "You can define a function that **returns** a variable, rather than printing to screen:\n",
    "\n",
    "你可以定义一个**返回**变量的函数，而不是打印到屏幕上："
   ]
  },
  {
   "cell_type": "code",
   "execution_count": null,
   "metadata": {
    "height": 115
   },
   "outputs": [],
   "source": [
    "def read_journal(file):\n",
    "    f = open(file, \"r\")\n",
    "    journal = f.read()\n",
    "    f.close()\n",
    "    # print(journal)\n",
    "    return journal"
   ]
  },
  {
   "cell_type": "markdown",
   "metadata": {},
   "source": [
    "Use the `read_journal` function to store the contents of the Tokyo journal in a variable:\n",
    "\n",
    "使用`read_journal`函数将东京日记的内容存储在变量中："
   ]
  },
  {
   "cell_type": "code",
   "execution_count": null,
   "metadata": {
    "height": 30
   },
   "outputs": [],
   "source": [
    "journal_tokyo = read_journal(\"tokyo.txt\")"
   ]
  },
  {
   "cell_type": "markdown",
   "metadata": {},
   "source": [
    "Print out the Tokyo journal content:\n",
    "\n",
    "打印东京日记内容："
   ]
  },
  {
   "cell_type": "code",
   "execution_count": null,
   "metadata": {
    "height": 30
   },
   "outputs": [],
   "source": [
    "print(journal_tokyo)"
   ]
  },
  {
   "cell_type": "markdown",
   "metadata": {},
   "source": [
    "Print out the length of the journal - the value is the number of individual characters in the string variable `journal_tokyo`:\n",
    "\n",
    "打印日记的长度 - 该值是字符串变量`journal_tokyo`中单个字符的数量："
   ]
  },
  {
   "cell_type": "code",
   "execution_count": null,
   "metadata": {
    "height": 30
   },
   "outputs": [],
   "source": [
    "print(len(journal_tokyo))"
   ]
  },
  {
   "cell_type": "markdown",
   "metadata": {},
   "source": [
    "## Parameters in functions\n",
    "## 函数中的参数"
   ]
  },
  {
   "cell_type": "markdown",
   "metadata": {},
   "source": [
    "Previously, you saw how to use Python to carry out calculations that convert degrees Fahrenheit to degrees Celsius:\n",
    "\n",
    "之前，你看到了如何使用Python进行将华氏度转换为摄氏度的计算："
   ]
  },
  {
   "cell_type": "code",
   "execution_count": null,
   "metadata": {
    "height": 132
   },
   "outputs": [],
   "source": [
    "# Value of temperature in Fahrenheit\n",
    "# 华氏温度值\n",
    "fahrenheit = 72\n",
    "# Calculation for getting the temperature in Celsius\n",
    "# 计算摄氏温度\n",
    "celsius = (fahrenheit - 32) * 5 / 9\n",
    "\n",
    "# Print the results\n",
    "# 打印结果\n",
    "print(f\"{fahrenheit}°F is equivalent to {celsius:.2f}°C\")"
   ]
  },
  {
   "cell_type": "markdown",
   "metadata": {},
   "source": [
    "If you want to convert another temperature, you have to write the code again, replacing the value for the ```fahrenheit``` variable with the new temperature to convert:\n",
    "\n",
    "如果你想转换另一个温度，你必须再次编写代码，用要转换的新温度替换```fahrenheit```变量的值："
   ]
  },
  {
   "cell_type": "code",
   "execution_count": null,
   "metadata": {
    "height": 132
   },
   "outputs": [],
   "source": [
    "# Value of temperature in Fahrenheit\n",
    "# 华氏温度值\n",
    "fahrenheit = 68\n",
    "# Calculation for getting the temperature in Celsius\n",
    "# 计算摄氏温度\n",
    "celsius = (fahrenheit - 32) * 5 / 9\n",
    "\n",
    "# Print the results\n",
    "# 打印结果\n",
    "print(f\"{fahrenheit}°F is equivalent to {celsius:.2f}°C\")"
   ]
  },
  {
   "cell_type": "markdown",
   "metadata": {},
   "source": [
    "You can do this as many times as you need\n",
    "\n",
    "你可以根据需要重复多次"
   ]
  },
  {
   "cell_type": "code",
   "execution_count": null,
   "metadata": {
    "height": 132
   },
   "outputs": [],
   "source": [
    "# Value of temperature in Fahrenheit\n",
    "# 华氏温度值\n",
    "fahrenheit = 76\n",
    "# Calculation for getting the temperature in Celsius\n",
    "# 计算摄氏温度\n",
    "celsius = (fahrenheit - 32) * 5 / 9\n",
    "\n",
    "# Print the results\n",
    "# 打印结果\n",
    "print(f\"{fahrenheit}°F is equivalent to {celsius:.2f}°C\")"
   ]
  },
  {
   "cell_type": "markdown",
   "metadata": {},
   "source": [
    "Again, this is a lot of typing! You can avoid this by writing a function for converting Fahrenheit to Celsius. Here is the code:\n",
    "\n",
    "同样，这需要大量的输入！你可以通过编写一个将华氏度转换为摄氏度的函数来避免这种情况。代码如下："
   ]
  },
  {
   "cell_type": "code",
   "execution_count": null,
   "metadata": {
    "height": 98
   },
   "outputs": [],
   "source": [
    "def fahrenheit_to_celsius(fahrenheit):\n",
    "    # Calculation for getting the temperature in celsius\n",
    "    # 计算摄氏温度\n",
    "    celsius = (fahrenheit - 32) * 5 / 9\n",
    "    # Print the results\n",
    "    # 打印结果\n",
    "    print(f\"{fahrenheit}°F is equivalent to {celsius:.2f}°C\")"
   ]
  },
  {
   "cell_type": "markdown",
   "metadata": {},
   "source": [
    "Now, instead of changing the value of the ```fahrenheit``` variable directly each time, you'll pass the desired value to the function as a ***parameter***. A parameter is a variable that is used in functions to pass in information to the function - in this case the temperature in Fahrenheit that you want to covert to Celsius.\n",
    "\n",
    "现在，你不需要每次直接更改```fahrenheit```变量的值，而是将所需的值作为***参数***传递给函数。参数是在函数中使用的变量，用于向函数传递信息 - 在这种情况下是你想要转换为摄氏度的华氏温度。"
   ]
  },
  {
   "cell_type": "markdown",
   "metadata": {},
   "source": [
    "Let's use the ```fahrenheit_to_celsius``` function and pass in a temperature as the input parameter!\n",
    "\n",
    "让我们使用```fahrenheit_to_celsius```函数并传入一个温度作为输入参数！"
   ]
  },
  {
   "cell_type": "code",
   "execution_count": null,
   "metadata": {
    "height": 30
   },
   "outputs": [],
   "source": [
    "fahrenheit_to_celsius(71)"
   ]
  },
  {
   "cell_type": "code",
   "execution_count": null,
   "metadata": {
    "height": 30
   },
   "outputs": [],
   "source": [
    "fahrenheit_to_celsius(70)"
   ]
  },
  {
   "cell_type": "code",
   "execution_count": null,
   "metadata": {
    "height": 30
   },
   "outputs": [],
   "source": [
    "fahrenheit_to_celsius(212)"
   ]
  },
  {
   "cell_type": "markdown",
   "metadata": {},
   "source": [
    "## Returning values\n",
    "## 返回值"
   ]
  },
  {
   "cell_type": "markdown",
   "metadata": {},
   "source": [
    "To be able to save the result from the temperature conversion function, you need to include a ```return``` statement.\n",
    "\n",
    "Here is a modification of the `fahrenheit_to_celsius` function that returns the converted temperature as a variable:\n",
    "\n",
    "为了能够保存温度转换函数的结果，你需要包含一个```return```语句。\n",
    "\n",
    "这是`fahrenheit_to_celsius`函数的修改版本，它将转换后的温度作为变量返回："
   ]
  },
  {
   "cell_type": "code",
   "execution_count": null,
   "metadata": {
    "height": 115
   },
   "outputs": [],
   "source": [
    "def fahrenheit_to_celsius(fahrenheit):\n",
    "    celsius = (fahrenheit - 32) * 5 / 9\n",
    "    # print(f\"{fahrenheit}°F is equivalent to {celsius:.2f}°C\")\n",
    "    \n",
    "    # Return the calculated value (not to print it, as before)\n",
    "    # 返回计算值（不像之前那样打印它）\n",
    "    return celsius"
   ]
  },
  {
   "cell_type": "markdown",
   "metadata": {},
   "source": [
    "So when you run this function, the result is stored in a variable:\n",
    "\n",
    "所以当你运行这个函数时，结果被存储在一个变量中："
   ]
  },
  {
   "cell_type": "code",
   "execution_count": null,
   "metadata": {
    "height": 64
   },
   "outputs": [],
   "source": [
    "# The value of temperature in Fahrenheit is 45\n",
    "# 华氏温度值是45\n",
    "fahrenheit = 45\n",
    "celsius = fahrenheit_to_celsius(fahrenheit)"
   ]
  },
  {
   "cell_type": "markdown",
   "metadata": {},
   "source": [
    "You can now print the result:\n",
    "\n",
    "现在你可以打印结果："
   ]
  },
  {
   "cell_type": "code",
   "execution_count": null,
   "metadata": {
    "height": 30
   },
   "outputs": [],
   "source": [
    "print(celsius)"
   ]
  },
  {
   "cell_type": "markdown",
   "metadata": {},
   "source": [
    "Note that this function returns a number, in this case a `float`:\n",
    "\n",
    "注意这个函数返回一个数字，在这种情况下是一个`float`："
   ]
  },
  {
   "cell_type": "code",
   "execution_count": null,
   "metadata": {
    "height": 30
   },
   "outputs": [],
   "source": [
    "type(celsius)"
   ]
  },
  {
   "cell_type": "markdown",
   "metadata": {},
   "source": [
    "## Extra practice\n",
    "## 额外练习\n",
    "\n",
    "Try the exercises below to practice what you have learned in this lesson!\n",
    "\n",
    "尝试下面的练习来练习你在这节课中学到的内容！\n",
    "\n",
    "### Exercise 1\n",
    "### 练习1\n",
    "\n",
    "Complete the code below to create a function that converts Celsius to Fahrenheit and displays the result to the screen.\n",
    "\n",
    "**Hint:** Use the code from Fahrenheit to Celsius to help you!\n",
    "\n",
    "完成下面的代码，创建一个将摄氏度转换为华氏度并在屏幕上显示结果的函数。\n",
    "\n",
    "**提示：** 使用华氏度转摄氏度的代码来帮助你！"
   ]
  },
  {
   "cell_type": "code",
   "execution_count": null,
   "metadata": {
    "height": 132
   },
   "outputs": [],
   "source": [
    "\n",
    "def celsius_to_fahrenheit():\n",
    "    # WRITE YOUR CODE HERE\n",
    "    # 在这里写你的代码\n",
    "\n",
    "celsius_to_fahrenheit(0)   # Should print 32 / 应该打印32\n",
    "celsius_to_fahrenheit(100) # Should print 212 / 应该打印212\n",
    "celsius_to_fahrenheit(13)  # Should print 55.4 / 应该打印55.4"
   ]
  },
  {
   "cell_type": "markdown",
   "metadata": {},
   "source": [
    "### Exercise 2\n",
    "### 练习2\n",
    "\n",
    "Write a function below that converts a length in **meters** to a length in **feet**, then returns the result.\n",
    "\n",
    "Ask the chatbot if you're not certain of the equation!\n",
    "\n",
    "编写一个函数，将**米**的长度转换为**英尺**的长度，然后返回结果。\n",
    "\n",
    "如果你不确定公式，请询问聊天机器人！"
   ]
  },
  {
   "cell_type": "code",
   "execution_count": null,
   "metadata": {
    "height": 115
   },
   "outputs": [],
   "source": [
    "\n",
    "def meters_to_feet:\n",
    "    # WRITE YOUR CODE HERE\n",
    "    # 在这里写你的代码\n",
    "\n",
    "print(meters_to_feet(10)) # Should print 32.8084 / 应该打印32.8084\n",
    "print(meters_to_feet(0.7)) # Should print 2.29659 / 应该打印2.29659"
   ]
  },
  {
   "cell_type": "markdown",
   "metadata": {},
   "source": [
    "### Challenge exercise!\n",
    "### 挑战练习！\n",
    "\n",
    "Write a function that takes in a **filename** as a parameter, uses an LLM to create a three bullet point summary, and returns the bullets as a string.\n",
    "\n",
    "Use the chatbot for help when you need it!\n",
    "\n",
    "编写一个函数，接受**文件名**作为参数，使用LLM创建三个要点摘要，并将要点作为字符串返回。\n",
    "\n",
    "需要时使用聊天机器人寻求帮助！"
   ]
  },
  {
   "cell_type": "code",
   "execution_count": null,
   "metadata": {
    "height": 353
   },
   "outputs": [],
   "source": [
    "from helper_functions import get_llm_response\n",
    "\n",
    "def create_bullet_points(file):\n",
    "    # Complete code below to read in the file and store the contents as a string\n",
    "    # 完成下面的代码来读取文件并将内容存储为字符串\n",
    "    f = open(file, \"r\")\n",
    "    file_contents = # YOUR CODE HERE / 你的代码在这里\n",
    "\n",
    "    # Write a prompt and pass to an LLM\n",
    "    # 编写提示词并传递给LLM\n",
    "    prompt = f\"\"\"YOUR PROMPT HERE\n",
    "    你的提示词在这里\n",
    "    \"\"\"\n",
    "    bullets = get_llm_response() # Don't forget to add your prompt! / 别忘了添加你的提示词！\n",
    "\n",
    "    # Return the bullet points\n",
    "    # 返回要点\n",
    "    return bullets\n",
    "\n",
    "# This line of code runs your function for istanbul.txt and returns the output\n",
    "# 这行代码为istanbul.txt运行你的函数并返回输出\n",
    "output_bullets = create_bullet_points(\"istanbul.txt\")\n",
    "\n",
    "# Print the fucntion output\n",
    "# 打印函数输出\n",
    "print(output_bullets)"
   ]
  }
 ],
 "metadata": {
  "kernelspec": {
   "display_name": "base",
   "language": "python",
   "name": "python3"
  },
  "language_info": {
   "codemirror_mode": {
    "name": "ipython",
    "version": 3
   },
   "file_extension": ".py",
   "mimetype": "text/x-python",
   "name": "python",
   "nbconvert_exporter": "python",
   "pygments_lexer": "ipython3",
   "version": "3.12.7"
  }
 },
 "nbformat": 4,
 "nbformat_minor": 4
}