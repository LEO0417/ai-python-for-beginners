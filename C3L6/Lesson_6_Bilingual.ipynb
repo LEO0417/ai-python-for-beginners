{
 "cells": [
  {
   "cell_type": "markdown",
   "metadata": {},
   "source": [
    "# 第六课：将代码块转换为可重用的函数\n",
    "# Lesson 6: Turning code blocks into reusable functions"
   ]
  },
  {
   "cell_type": "markdown",
   "metadata": {},
   "source": [
    "在本课程以及之前的课程中，您一直在使用几种不同的**函数**。\n",
    "\n",
    "在本课中，您将学习如何创建自己的函数，并了解它们如何帮助您避免一遍又一遍地编写代码行。\n",
    "\n",
    "---\n",
    "\n",
    "Through this and the previous courses, you have been using several different **functions**. \n",
    "\n",
    "In this lesson, you'll learn how to create your own, and see how they can help you avoid writing lines of code over and over again.\n",
    "\n",
    "让我们首先导入您将使用的辅助函数：\n",
    "\n",
    "Let's start by importing the helper functions you'll use:"
   ]
  },
  {
   "cell_type": "code",
   "execution_count": null,
   "metadata": {
    "height": 47
   },
   "outputs": [],
   "source": [
    "# 导入辅助函数 - Import helper functions\n",
    "from helper_functions import print_llm_response\n",
    "from IPython.display import Markdown, display"
   ]
  },
  {
   "cell_type": "markdown",
   "metadata": {},
   "source": [
    "## 回顾您已经使用过的函数\n",
    "## Revisiting functions you've already used\n",
    "\n",
    "以下是您在这些课程中遇到的一些函数。\n",
    "\n",
    "Here are some of the functions you've encountered so far in these courses.\n",
    "\n",
    "`print` 函数将数据显示到屏幕上：\n",
    "\n",
    "The `print` function displays data to the screen:"
   ]
  },
  {
   "cell_type": "code",
   "execution_count": null,
   "metadata": {
    "height": 30
   },
   "outputs": [],
   "source": [
    "# 打印函数示例 - Print function example\n",
    "print(\"Hello World!\")  # 你好，世界！"
   ]
  },
  {
   "cell_type": "markdown",
   "metadata": {},
   "source": [
    "`len` 函数返回列表中项目或元素的数量：\n",
    "\n",
    "The `len` function returns the number of items, or elements, in a list:"
   ]
  },
  {
   "cell_type": "code",
   "execution_count": null,
   "metadata": {
    "height": 98
   },
   "outputs": [],
   "source": [
    "# 创建朋友列表 - Create a list of friends\n",
    "friends_list = [\"Tommy\", \"Isabel\", \"Daniel\", \"Otto\"]\n",
    "\n",
    "# 返回列表中朋友的数量 - Return the number of friends in the list\n",
    "len(friends_list)"
   ]
  },
  {
   "cell_type": "markdown",
   "metadata": {},
   "source": [
    "您一直在使用一个名为 `print_llm_response` 的特殊辅助函数将提示传递给 LLM 并在屏幕上显示响应：\n",
    "\n",
    "And you've been using a special helper function called `print_llm_response` to pass prompts to an LLM and display the response to screen:"
   ]
  },
  {
   "cell_type": "markdown",
   "metadata": {
    "vscode": {
     "languageId": "raw"
    }
   },
   "source": [
    "## 定义您自己的函数\n",
    "## Defining your own functions\n",
    "\n",
    "定义函数可以帮助您避免一遍又一遍地输入相同的代码。\n",
    "\n",
    "例如，要读取不同美食日记的文本，您需要重复以下代码：\n",
    "\n",
    "---\n",
    "\n",
    "Defining functions can help you avoid typing the same code over and over. \n",
    "\n",
    "For example, to read in the text from different food journals, you'd need to repeat the following code:\n"
   ]
  },
  {
   "cell_type": "markdown",
   "metadata": {
    "vscode": {
     "languageId": "raw"
    }
   },
   "source": [
    "## 定义您自己的函数\n",
    "## Defining your own functions\n",
    "\n",
    "定义函数可以帮助您避免一遍又一遍地输入相同的代码。\n",
    "\n",
    "例如，要读取不同美食日记的文本，您需要重复以下代码：\n",
    "\n",
    "---\n",
    "\n",
    "Defining functions can help you avoid typing the same code over and over. \n",
    "\n",
    "For example, to read in the text from different food journals, you'd need to repeat the following code:\n"
   ]
  },
  {
   "cell_type": "code",
   "execution_count": null,
   "metadata": {},
   "outputs": [],
   "source": [
    "# 定义打印日记函数 - Define print journal function\n",
    "def print_journal(file):\n",
    "    \"\"\"读取并打印日记文件的内容 - Read and print journal file content\"\"\"\n",
    "    f = open(file, \"r\", encoding='utf-8')  # 使用UTF-8编码支持中文\n",
    "    journal = f.read()\n",
    "    f.close()\n",
    "    print(journal)\n"
   ]
  },
  {
   "cell_type": "code",
   "execution_count": null,
   "metadata": {},
   "outputs": [],
   "source": [
    "# 读取悉尼日记 - Read in the Sydney journal\n",
    "print_journal(\"sydney.txt\")\n"
   ]
  },
  {
   "cell_type": "markdown",
   "metadata": {
    "vscode": {
     "languageId": "raw"
    }
   },
   "source": [
    "## 额外练习\n",
    "## Extra practice\n",
    "\n",
    "尝试下面的练习来练习您在本课中学到的内容！\n",
    "\n",
    "Try the exercises below to practice what you have learned in this lesson!\n",
    "\n",
    "### 练习 1 - Exercise 1\n",
    "\n",
    "完成下面的代码以创建一个将摄氏度转换为华氏度并将结果显示到屏幕的函数。\n",
    "\n",
    "**提示：** 使用华氏度到摄氏度的代码来帮助您！\n",
    "\n",
    "---\n",
    "\n",
    "Complete the code below to create a function that converts Celsius to Fahrenheit and displays the result to the screen.\n",
    "\n",
    "**Hint:** Use the code from Fahrenheit to Celsius to help you!\n"
   ]
  },
  {
   "cell_type": "code",
   "execution_count": null,
   "metadata": {},
   "outputs": [],
   "source": [
    "# 摄氏度转华氏度函数 - Celsius to Fahrenheit function\n",
    "def celsius_to_fahrenheit(celsius):\n",
    "    \"\"\"将摄氏度转换为华氏度 - Convert Celsius to Fahrenheit\"\"\"\n",
    "    # 在这里写您的代码 - WRITE YOUR CODE HERE\n",
    "    fahrenheit = celsius * 9 / 5 + 32\n",
    "    print(f\"{celsius}°C 等于 {fahrenheit}°F\")\n",
    "    print(f\"{celsius}°C is equivalent to {fahrenheit}°F\")\n",
    "\n",
    "# 测试函数 - Test the function\n",
    "celsius_to_fahrenheit(0)   # 应该打印 32 - Should print 32\n",
    "celsius_to_fahrenheit(100) # 应该打印 212 - Should print 212\n"
   ]
  },
  {
   "cell_type": "markdown",
   "metadata": {
    "vscode": {
     "languageId": "raw"
    }
   },
   "source": [
    "## 课程总结 - Lesson Summary\n",
    "\n",
    "在本课中，我们学习了：\n",
    "\n",
    "In this lesson, we learned:\n",
    "\n",
    "1. **函数的基本概念** - 函数是可重用的代码块，帮助我们避免重复编写相同的代码\n",
    "   \n",
    "   **Basic concept of functions** - Functions are reusable blocks of code that help us avoid writing the same code repeatedly\n",
    "\n",
    "2. **如何定义函数** - 使用 `def` 关键字定义函数，包括函数名、参数和函数体\n",
    "   \n",
    "   **How to define functions** - Use the `def` keyword to define functions, including function name, parameters, and function body\n",
    "\n",
    "3. **参数的使用** - 参数允许我们向函数传递信息，使函数更加灵活\n",
    "   \n",
    "   **Using parameters** - Parameters allow us to pass information to functions, making functions more flexible\n",
    "\n",
    "函数是编程中的基本概念，掌握函数的使用将大大提高您的编程效率！\n",
    "\n",
    "Functions are fundamental concepts in programming, and mastering the use of functions will greatly improve your programming efficiency!\n"
   ]
  },
  {
   "cell_type": "code",
   "execution_count": null,
   "metadata": {},
   "outputs": [],
   "source": [
    "# 读取开普敦日记 - read in the Cape Town journal\n",
    "f = open(\"cape_town.txt\", \"r\", encoding='utf-8')\n",
    "journal_cape_town = f.read()\n",
    "f.close()\n",
    "print(journal_cape_town)\n"
   ]
  },
  {
   "cell_type": "code",
   "execution_count": null,
   "metadata": {},
   "outputs": [],
   "source": [
    "# 读取巴黎日记 - read in the Paris journal\n",
    "f = open(\"paris.txt\", \"r\", encoding='utf-8')\n",
    "journal_paris = f.read()\n",
    "f.close()\n",
    "print(journal_paris)\n"
   ]
  },
  {
   "cell_type": "markdown",
   "metadata": {
    "vscode": {
     "languageId": "raw"
    }
   },
   "source": [
    "如果您需要加载多个文件，您必须为每个文件重复这些代码。\n",
    "\n",
    "为了避免这种情况，您可以定义一个**函数**来读取文件并将内容存储到变量中：\n",
    "\n",
    "---\n",
    "\n",
    "If you need to load multiple files, you'll have to repeat these lines for each file.\n",
    "\n",
    "To avoid this, you can instead define a **function** to read in a file and store the contents to a variable:\n"
   ]
  },
  {
   "cell_type": "code",
   "execution_count": null,
   "metadata": {},
   "outputs": [],
   "source": [
    "# 定义打印日记函数 - Define print journal function\n",
    "def print_journal(file):\n",
    "    \"\"\"读取并打印日记文件的内容 - Read and print journal file content\"\"\"\n",
    "    f = open(file, \"r\", encoding='utf-8')  # 使用UTF-8编码支持中文\n",
    "    journal = f.read()\n",
    "    f.close()\n",
    "    print(journal)\n"
   ]
  },
  {
   "cell_type": "markdown",
   "metadata": {
    "vscode": {
     "languageId": "raw"
    }
   },
   "source": [
    "现在您已经创建了这个函数，您可以重复使用它来读取不同的文件：\n",
    "\n",
    "Now that you have created this function, you can reuse it to read in different files:\n"
   ]
  },
  {
   "cell_type": "code",
   "execution_count": null,
   "metadata": {},
   "outputs": [],
   "source": [
    "# 读取悉尼日记 - Read in the Sydney journal\n",
    "print_journal(\"sydney.txt\")\n"
   ]
  },
  {
   "cell_type": "markdown",
   "metadata": {
    "vscode": {
     "languageId": "raw"
    }
   },
   "source": [
    "## 函数中的参数\n",
    "## Parameters in functions\n",
    "\n",
    "之前，您看到了如何使用 Python 进行计算，将华氏度转换为摄氏度：\n",
    "\n",
    "Previously, you saw how to use Python to carry out calculations that convert degrees Fahrenheit to degrees Celsius:\n"
   ]
  },
  {
   "cell_type": "code",
   "execution_count": null,
   "metadata": {},
   "outputs": [],
   "source": [
    "# 华氏度温度值 - Value of temperature in Fahrenheit\n",
    "fahrenheit = 72\n",
    "# 获取摄氏度温度的计算 - Calculation for getting the temperature in Celsius\n",
    "celsius = (fahrenheit - 32) * 5 / 9\n",
    "\n",
    "# 打印结果 - Print the results\n",
    "print(f\"{fahrenheit}°F 等于 {celsius:.2f}°C\")\n",
    "print(f\"{fahrenheit}°F is equivalent to {celsius:.2f}°C\")\n"
   ]
  },
  {
   "cell_type": "markdown",
   "metadata": {
    "vscode": {
     "languageId": "raw"
    }
   },
   "source": [
    "同样，这需要大量的输入！您可以通过编写一个将华氏度转换为摄氏度的函数来避免这种情况。代码如下：\n",
    "\n",
    "Again, this is a lot of typing! You can avoid this by writing a function for converting Fahrenheit to Celsius. Here is the code:\n"
   ]
  },
  {
   "cell_type": "code",
   "execution_count": null,
   "metadata": {},
   "outputs": [],
   "source": [
    "# 定义华氏度转摄氏度函数 - Define Fahrenheit to Celsius function\n",
    "def fahrenheit_to_celsius(fahrenheit):\n",
    "    \"\"\"将华氏度转换为摄氏度 - Convert Fahrenheit to Celsius\"\"\"\n",
    "    # 获取摄氏度温度的计算 - Calculation for getting the temperature in celsius\n",
    "    celsius = (fahrenheit - 32) * 5 / 9\n",
    "    # 打印结果 - Print the results\n",
    "    print(f\"{fahrenheit}°F 等于 {celsius:.2f}°C\")\n",
    "    print(f\"{fahrenheit}°F is equivalent to {celsius:.2f}°C\")\n"
   ]
  },
  {
   "cell_type": "code",
   "execution_count": null,
   "metadata": {},
   "outputs": [],
   "source": [
    "# 使用函数进行温度转换 - Use function for temperature conversion\n",
    "fahrenheit_to_celsius(71)\n",
    "fahrenheit_to_celsius(212)  # 水的沸点 - Boiling point of water\n"
   ]
  },
  {
   "cell_type": "markdown",
   "metadata": {
    "vscode": {
     "languageId": "raw"
    }
   },
   "source": [
    "## 额外练习\n",
    "## Extra practice\n",
    "\n",
    "尝试下面的练习来练习您在本课中学到的内容！\n",
    "\n",
    "Try the exercises below to practice what you have learned in this lesson!\n",
    "\n",
    "### 练习 1 - Exercise 1\n",
    "\n",
    "完成下面的代码以创建一个将摄氏度转换为华氏度并将结果显示到屏幕的函数。\n",
    "\n",
    "**提示：** 使用华氏度到摄氏度的代码来帮助您！\n",
    "\n",
    "---\n",
    "\n",
    "Complete the code below to create a function that converts Celsius to Fahrenheit and displays the result to the screen.\n",
    "\n",
    "**Hint:** Use the code from Fahrenheit to Celsius to help you!\n"
   ]
  },
  {
   "cell_type": "code",
   "execution_count": null,
   "metadata": {},
   "outputs": [],
   "source": [
    "# 摄氏度转华氏度函数 - Celsius to Fahrenheit function\n",
    "def celsius_to_fahrenheit(celsius):\n",
    "    \"\"\"将摄氏度转换为华氏度 - Convert Celsius to Fahrenheit\"\"\"\n",
    "    # 在这里写您的代码 - WRITE YOUR CODE HERE\n",
    "    fahrenheit = celsius * 9 / 5 + 32\n",
    "    print(f\"{celsius}°C 等于 {fahrenheit}°F\")\n",
    "    print(f\"{celsius}°C is equivalent to {fahrenheit}°F\")\n",
    "\n",
    "# 测试函数 - Test the function\n",
    "celsius_to_fahrenheit(0)   # 应该打印 32 - Should print 32\n",
    "celsius_to_fahrenheit(100) # 应该打印 212 - Should print 212\n",
    "celsius_to_fahrenheit(13)  # 应该打印 55.4 - Should print 55.4\n"
   ]
  },
  {
   "cell_type": "markdown",
   "metadata": {
    "vscode": {
     "languageId": "raw"
    }
   },
   "source": [
    "### 练习 2 - Exercise 2\n",
    "\n",
    "在下面写一个函数，将**米**长度转换为**英尺**长度，然后返回结果。\n",
    "\n",
    "如果您不确定公式，请询问聊天机器人！\n",
    "\n",
    "---\n",
    "\n",
    "Write a function below that converts a length in **meters** to a length in **feet**, then returns the result.\n",
    "\n",
    "Ask the chatbot if you're not certain of the equation!\n"
   ]
  },
  {
   "cell_type": "code",
   "execution_count": null,
   "metadata": {},
   "outputs": [],
   "source": [
    "# 米转英尺函数 - Meters to feet function\n",
    "def meters_to_feet(meters):\n",
    "    \"\"\"将米转换为英尺 - Convert meters to feet\"\"\"\n",
    "    # 在这里写您的代码 - WRITE YOUR CODE HERE\n",
    "    # 1 米 = 3.28084 英尺 - 1 meter = 3.28084 feet\n",
    "    feet = meters * 3.28084\n",
    "    return feet\n",
    "\n",
    "# 测试函数 - Test the function\n",
    "print(f\"10米 = {meters_to_feet(10)}英尺\")   # 应该打印 32.8084 - Should print 32.8084\n",
    "print(f\"0.7米 = {meters_to_feet(0.7)}英尺\") # 应该打印 2.29659 - Should print 2.29659\n"
   ]
  },
  {
   "cell_type": "markdown",
   "metadata": {
    "vscode": {
     "languageId": "raw"
    }
   },
   "source": [
    "### 挑战练习！- Challenge exercise!\n",
    "\n",
    "编写一个函数，该函数将**文件名**作为参数，使用 LLM 创建三个要点摘要，并将要点作为字符串返回。\n",
    "\n",
    "需要时使用聊天机器人寻求帮助！\n",
    "\n",
    "---\n",
    "\n",
    "Write a function that takes in a **filename** as a parameter, uses an LLM to create a three bullet point summary, and returns the bullets as a string.\n",
    "\n",
    "Use the chatbot for help when you need it!\n"
   ]
  },
  {
   "cell_type": "code",
   "execution_count": null,
   "metadata": {},
   "outputs": [],
   "source": [
    "# 导入LLM响应函数 - Import LLM response function\n",
    "from helper_functions import get_llm_response\n",
    "\n",
    "def create_bullet_points(file):\n",
    "    \"\"\"创建文件内容的三个要点摘要 - Create three bullet point summary of file content\"\"\"\n",
    "    # 完成下面的代码以读取文件并将内容存储为字符串\n",
    "    # Complete code below to read in the file and store the contents as a string\n",
    "    f = open(file, \"r\", encoding='utf-8')\n",
    "    file_contents = f.read()  # 您的代码在这里 - YOUR CODE HERE\n",
    "    f.close()\n",
    "\n",
    "    # 编写提示并传递给 LLM - Write a prompt and pass to an LLM\n",
    "    prompt = f\"\"\"请为以下文本创建三个要点摘要：\n",
    "    \n",
    "    {file_contents}\n",
    "    \n",
    "    Please create a three bullet point summary of the following text:\n",
    "    \n",
    "    {file_contents}\n",
    "    \"\"\"\n",
    "    bullets = get_llm_response(prompt)  # 不要忘记添加您的提示！ - Don't forget to add your prompt!\n",
    "\n",
    "    # 返回要点 - Return the bullet points\n",
    "    return bullets\n",
    "\n",
    "# 这行代码为 istanbul.txt 运行您的函数并返回输出\n",
    "# This line of code runs your function for istanbul.txt and returns the output\n",
    "output_bullets = create_bullet_points(\"istanbul.txt\")\n",
    "\n",
    "# 打印函数输出 - Print the function output\n",
    "print(\"文件摘要 - File Summary:\")\n",
    "print(output_bullets)\n"
   ]
  },
  {
   "cell_type": "markdown",
   "metadata": {
    "vscode": {
     "languageId": "raw"
    }
   },
   "source": [
    "## 课程总结 - Lesson Summary\n",
    "\n",
    "在本课中，我们学习了：\n",
    "\n",
    "In this lesson, we learned:\n",
    "\n",
    "1. **函数的基本概念** - 函数是可重用的代码块，帮助我们避免重复编写相同的代码\n",
    "   \n",
    "   **Basic concept of functions** - Functions are reusable blocks of code that help us avoid writing the same code repeatedly\n",
    "\n",
    "2. **如何定义函数** - 使用 `def` 关键字定义函数，包括函数名、参数和函数体\n",
    "   \n",
    "   **How to define functions** - Use the `def` keyword to define functions, including function name, parameters, and function body\n",
    "\n",
    "3. **参数的使用** - 参数允许我们向函数传递信息，使函数更加灵活\n",
    "   \n",
    "   **Using parameters** - Parameters allow us to pass information to functions, making functions more flexible\n",
    "\n",
    "4. **返回值** - 使用 `return` 语句从函数返回结果，便于后续处理\n",
    "   \n",
    "   **Return values** - Use the `return` statement to return results from functions for further processing\n",
    "\n",
    "### 函数的好处 - Benefits of Functions\n",
    "\n",
    "✅ **代码重用** - 一次编写，多次使用  \n",
    "✅ **Code reuse** - Write once, use many times\n",
    "\n",
    "✅ **减少错误** - 修改只需在一个地方进行  \n",
    "✅ **Reduce errors** - Changes only need to be made in one place\n",
    "\n",
    "✅ **提高可读性** - 代码更容易理解和维护  \n",
    "✅ **Improve readability** - Code is easier to understand and maintain\n",
    "\n",
    "✅ **模块化** - 将复杂问题分解为更小的部分  \n",
    "✅ **Modularity** - Break down complex problems into smaller parts\n",
    "\n",
    "函数是编程中的基本概念，掌握函数的使用将大大提高您的编程效率！\n",
    "\n",
    "Functions are fundamental concepts in programming, and mastering the use of functions will greatly improve your programming efficiency!\n"
   ]
  },
  {
   "cell_type": "code",
   "execution_count": null,
   "metadata": {
    "height": 47
   },
   "outputs": [],
   "source": [
    "# 'print_llm_response' 函数在 helper_functions.py 文件中\n",
    "# The 'print_llm_response' function is in the helper_functions.py file\n",
    "print_llm_response(\"What is the capital of France?\")  # 法国的首都是什么"
   ]
  },
  {
   "cell_type": "code",
   "execution_count": null,
   "metadata": {},
   "outputs": [],
   "source": []
  }
 ],
 "metadata": {
  "kernelspec": {
   "display_name": "base",
   "language": "python",
   "name": "python3"
  },
  "language_info": {
   "codemirror_mode": {
    "name": "ipython",
    "version": 3
   },
   "file_extension": ".py",
   "mimetype": "text/x-python",
   "name": "python",
   "nbconvert_exporter": "python",
   "pygments_lexer": "ipython3",
   "version": "3.12.7"
  }
 },
 "nbformat": 4,
 "nbformat_minor": 4
}
