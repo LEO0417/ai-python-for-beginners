{
 "cells": [
  {
   "cell_type": "markdown",
   "metadata": {},
   "source": [
    "# Lesson 1 - Completing a task list with AI\n",
    "# 第1课 - 使用AI完成任务列表"
   ]
  },
  {
   "cell_type": "markdown",
   "metadata": {},
   "source": [
    "In this course, you'll learn how to automate tasks using Python. This means you'll be able to have Python **do repetitive things** and **make decisions** for you. One important skill you'll develop is the ability to store multiple pieces of data together. This lesson will introduce you to **lists**, a powerful tool for this purpose.\n",
    "\n",
    "在这个课程中，您将学习如何使用Python自动化任务。这意味着您将能够让Python为您**执行重复的工作**和**做出决定**。您将培养的一个重要技能是将多个数据片段存储在一起的能力。本课将向您介绍**列表**，这是一个强大的工具。\n",
    "\n",
    "To get started, let's load some functions that you'll use in this lesson.\n",
    "\n",
    "首先，让我们加载一些您将在本课中使用的函数。"
   ]
  },
  {
   "cell_type": "code",
   "execution_count": null,
   "metadata": {},
   "outputs": [],
   "source": [
    "from helper_functions import print_llm_response, get_llm_response"
   ]
  },
  {
   "cell_type": "markdown",
   "metadata": {},
   "source": [
    "### What are lists?\n",
    "### 什么是列表？\n",
    "\n",
    "In the last course, you learned about variables. Each variable holds a single piece of data.\n",
    "\n",
    "在上一门课程中，您学习了变量。每个变量保存一个数据片段。\n",
    "\n",
    "For example:\n",
    "\n",
    "例如："
   ]
  },
  {
   "cell_type": "code",
   "execution_count": null,
   "metadata": {},
   "outputs": [],
   "source": [
    "name = \"Tommy\""
   ]
  },
  {
   "cell_type": "markdown",
   "metadata": {},
   "source": [
    "Let's say I want to write a poem for all my friends... all three of them. Run the cell below, then change the name above to Isabel and rerun the cell.\n",
    "\n",
    "假设我想为我所有的朋友写一首诗...他们三个。运行下面的单元格，然后将上面的名字改为Isabel并重新运行单元格。"
   ]
  },
  {
   "cell_type": "code",
   "execution_count": null,
   "metadata": {},
   "outputs": [],
   "source": [
    "prompt = f\"\"\"\n",
    "Write a four line birthday poem for my friend {name}. \n",
    "The poem should be inspired by the first letter of my friend's name.\n",
    "\"\"\"\n",
    "print_llm_response(prompt)"
   ]
  },
  {
   "cell_type": "markdown",
   "metadata": {},
   "source": [
    "Changing the value held by a variable requires lots of updates to the variables. A better way to handle this is by using a list.\n",
    "\n",
    "更改变量保存的值需要对变量进行大量更新。处理这个问题的更好方法是使用列表。\n",
    "\n",
    "Lists are a data type in Python that can hold multiple pieces of data. This reduces the need for repetitive variable assignments since you can include all the pieces of data together.\n",
    "\n",
    "列表是Python中的一种数据类型，可以保存多个数据片段。这减少了对重复变量赋值的需求，因为您可以将所有数据片段放在一起。"
   ]
  },
  {
   "cell_type": "markdown",
   "metadata": {},
   "source": [
    "## Creating a list\n",
    "## 创建列表\n",
    "\n",
    "Below, you will create a list that holds the names `\"Tommy\"`, `\"Isabel\"` and `\"Daniel\"`.\n",
    "\n",
    "下面，您将创建一个包含名字`\"Tommy\"`、`\"Isabel\"`和`\"Daniel\"`的列表。"
   ]
  },
  {
   "cell_type": "code",
   "execution_count": null,
   "metadata": {},
   "outputs": [],
   "source": [
    "friends_list = [\"Tommy\", \"Isabel\", \"Daniel\"]"
   ]
  },
  {
   "cell_type": "code",
   "execution_count": null,
   "metadata": {},
   "outputs": [],
   "source": [
    "print(friends_list)"
   ]
  },
  {
   "cell_type": "markdown",
   "metadata": {},
   "source": [
    "`friends_list` is a single variable of type `list` that holds multiple values.\n",
    "\n",
    "`friends_list`是一个类型为`list`的单个变量，它保存多个值。"
   ]
  },
  {
   "cell_type": "code",
   "execution_count": null,
   "metadata": {},
   "outputs": [],
   "source": [
    "type(friends_list)"
   ]
  },
  {
   "cell_type": "markdown",
   "metadata": {},
   "source": [
    "You can check how many values are stored in the list by using `len()`:\n",
    "\n",
    "您可以使用`len()`检查列表中存储了多少个值："
   ]
  },
  {
   "cell_type": "code",
   "execution_count": null,
   "metadata": {},
   "outputs": [],
   "source": [
    "len(friends_list)"
   ]
  },
  {
   "cell_type": "markdown",
   "metadata": {},
   "source": [
    "So this list has three elements.\n",
    "\n",
    "所以这个列表有三个元素。"
   ]
  },
  {
   "cell_type": "markdown",
   "metadata": {},
   "source": [
    "You can use lists as you used variables before within LLM prompts. Below, you are including the `friends_list` in the prompt to write four-line birthday poems for `'Tommy'`, `'Isabel'` and `'Daniel'`.\n",
    "\n",
    "您可以像之前在LLM提示中使用变量一样使用列表。下面，您将在提示中包含`friends_list`，为`'Tommy'`、`'Isabel'`和`'Daniel'`写四行生日诗。"
   ]
  },
  {
   "cell_type": "code",
   "execution_count": null,
   "metadata": {},
   "outputs": [],
   "source": [
    "prompt = f\"\"\"\n",
    "Write a set of four line birthday poems for my friends {friends_list}. \n",
    "The poems should be inspired by the first letter of each friend's name.\n",
    "\"\"\"\n",
    "print(prompt)"
   ]
  },
  {
   "cell_type": "markdown",
   "metadata": {},
   "source": [
    "Now, you can use that prompt with the LLM:\n",
    "\n",
    "现在，您可以将该提示与LLM一起使用："
   ]
  },
  {
   "cell_type": "code",
   "execution_count": null,
   "metadata": {},
   "outputs": [],
   "source": [
    "print_llm_response(prompt)"
   ]
  },
  {
   "cell_type": "markdown",
   "metadata": {},
   "source": [
    "## Accessing individual elements of a list\n",
    "## 访问列表的单个元素"
   ]
  },
  {
   "cell_type": "markdown",
   "metadata": {},
   "source": [
    "You can access individual elements from a list. Let's ask the chatbot how to do that.\n",
    "\n",
    "您可以从列表中访问单个元素。让我们问聊天机器人如何做到这一点。"
   ]
  },
  {
   "cell_type": "markdown",
   "metadata": {},
   "source": [
    "<p style=\"background-color:#F5C780; padding:15px\"> 🤖 <b>Use the Chatbot</b>: How do I access a specific element of this list:\n",
    "friends_list = [\"Tommy\", \"Isabel\", \"Daniel\"]\n",
    "</p>\n",
    "\n",
    "<p style=\"background-color:#F5C780; padding:15px\"> 🤖 <b>使用聊天机器人</b>：如何访问这个列表的特定元素：\n",
    "friends_list = [\"Tommy\", \"Isabel\", \"Daniel\"]\n",
    "</p>"
   ]
  },
  {
   "cell_type": "markdown",
   "metadata": {},
   "source": [
    "For instance, to access the first element, you would use the following code:\n",
    "\n",
    "例如，要访问第一个元素，您将使用以下代码："
   ]
  },
  {
   "cell_type": "code",
   "execution_count": null,
   "metadata": {},
   "outputs": [],
   "source": [
    "first_friend = friends_list[0]\n",
    "print(first_friend)  # Output: Tommy"
   ]
  },
  {
   "cell_type": "markdown",
   "metadata": {},
   "source": [
    "To access the second element, you would use the following code:\n",
    "\n",
    "要访问第二个元素，您将使用以下代码："
   ]
  },
  {
   "cell_type": "code",
   "execution_count": null,
   "metadata": {},
   "outputs": [],
   "source": [
    "print(friends_list[1])  # Output: Isabel"
   ]
  },
  {
   "cell_type": "markdown",
   "metadata": {},
   "source": [
    "Note that for accessing the first element you used the index 0, and for accessing the second element you used 1.\n",
    "\n",
    "注意，要访问第一个元素，您使用索引0，要访问第二个元素，您使用1。"
   ]
  },
  {
   "cell_type": "markdown",
   "metadata": {},
   "source": [
    "So, if you do the following, you'll get an error.\n",
    "\n",
    "所以，如果您这样做，您将得到一个错误。"
   ]
  },
  {
   "cell_type": "code",
   "execution_count": null,
   "metadata": {},
   "outputs": [],
   "source": [
    "print(friends_list[3])  # Gives an error"
   ]
  },
  {
   "cell_type": "markdown",
   "metadata": {},
   "source": [
    "But, if you run the following code, you will be able to access the last element from that list.\n",
    "\n",
    "但是，如果您运行以下代码，您将能够访问该列表中的最后一个元素。"
   ]
  },
  {
   "cell_type": "code",
   "execution_count": null,
   "metadata": {},
   "outputs": [],
   "source": [
    "print(friends_list[2])"
   ]
  },
  {
   "cell_type": "markdown",
   "metadata": {},
   "source": [
    "## Adding another element to the list\n",
    "## 向列表添加另一个元素"
   ]
  },
  {
   "cell_type": "code",
   "execution_count": null,
   "metadata": {},
   "outputs": [],
   "source": [
    "print(friends_list)"
   ]
  },
  {
   "cell_type": "markdown",
   "metadata": {},
   "source": [
    "If you want to add some data to a list, you will use `list.append(new_data)`. So, to add `\"Otto\"` to your `friends_list`, you can run the following code:\n",
    "\n",
    "如果您想向列表添加一些数据，您将使用`list.append(new_data)`。因此，要将`\"Otto\"`添加到您的`friends_list`中，您可以运行以下代码："
   ]
  },
  {
   "cell_type": "code",
   "execution_count": null,
   "metadata": {},
   "outputs": [],
   "source": [
    "# add single element to list\n",
    "# 向列表添加单个元素\n",
    "friends_list.append(\"Otto\")"
   ]
  },
  {
   "cell_type": "code",
   "execution_count": null,
   "metadata": {},
   "outputs": [],
   "source": [
    "print(friends_list)"
   ]
  },
  {
   "cell_type": "markdown",
   "metadata": {},
   "source": [
    "Try for yourself - modify code to add another friend, or yourself\n",
    "\n",
    "自己试试 - 修改代码添加另一个朋友，或者添加您自己"
   ]
  },
  {
   "cell_type": "code",
   "execution_count": null,
   "metadata": {},
   "outputs": [],
   "source": [
    "# Modify the code below to add another friend:\n",
    "# 修改下面的代码添加另一个朋友：\n",
    "friends_list.append()"
   ]
  },
  {
   "cell_type": "markdown",
   "metadata": {},
   "source": [
    "## Deleting elements\n",
    "## 删除元素"
   ]
  },
  {
   "cell_type": "markdown",
   "metadata": {},
   "source": [
    "Tommy moved to Bora Bora, so we can't be friends anymore. Let's remove Tommy from `friends_list` by using `.remove()`:\n",
    "\n",
    "Tommy搬到了博拉博拉岛，所以我们不能再做朋友了。让我们使用`.remove()`从`friends_list`中删除Tommy："
   ]
  },
  {
   "cell_type": "code",
   "execution_count": null,
   "metadata": {},
   "outputs": [],
   "source": [
    "# using remove\n",
    "# 使用remove\n",
    "friends_list.remove(\"Tommy\")"
   ]
  },
  {
   "cell_type": "code",
   "execution_count": null,
   "metadata": {},
   "outputs": [],
   "source": [
    "print(friends_list)"
   ]
  },
  {
   "cell_type": "markdown",
   "metadata": {},
   "source": [
    "## Lists with other data types\n",
    "## 包含其他数据类型的列表\n",
    "\n",
    "Lists can hold any type of data. For instance, here is a list of numbers\n",
    "\n",
    "列表可以保存任何类型的数据。例如，这里是一个数字列表"
   ]
  },
  {
   "cell_type": "code",
   "execution_count": null,
   "metadata": {},
   "outputs": [],
   "source": [
    "list_ages = [42, 28, 30]"
   ]
  },
  {
   "cell_type": "code",
   "execution_count": null,
   "metadata": {},
   "outputs": [],
   "source": [
    "print(list_ages)"
   ]
  },
  {
   "cell_type": "markdown",
   "metadata": {},
   "source": [
    "Lists can also hold long strings. Here's a list of tasks that might make up a todo list\n",
    "\n",
    "列表也可以保存长字符串。这里是一个可能组成待办事项列表的任务列表"
   ]
  },
  {
   "cell_type": "code",
   "execution_count": null,
   "metadata": {},
   "outputs": [],
   "source": [
    "# list of tasks in priority order. Multi-line lists are allowed in python!\n",
    "# 按优先级顺序排列的任务列表。Python中允许多行列表！\n",
    "list_of_tasks = [\n",
    "    \"Compose a brief email to my boss explaining that I will be late for tomorrow's meeting.\",\n",
    "    \"Write a birthday poem for Otto, celebrating his 28th birthday.\",\n",
    "    \"Write a 300-word review of the movie 'The Arrival'.\"\n",
    "]"
   ]
  },
  {
   "cell_type": "markdown",
   "metadata": {},
   "source": [
    "If you were wondering how to use lists with AI, take this example. Each element in the previous list is a string that you can pass to `print_llm_response()`. If you want an LLM to do each of these tasks for you, here's what you would do:\n",
    "\n",
    "如果您想知道如何将列表与AI一起使用，请看这个例子。上一个列表中的每个元素都是一个字符串，您可以将其传递给`print_llm_response()`。如果您希望LLM为您完成每项任务，这是您需要做的：\n",
    "\n",
    "Set a variable called `task` to each element in the list in turn, then pass it to `print_llm_response()`.\n",
    "\n",
    "将一个名为`task`的变量依次设置为列表中的每个元素，然后将其传递给`print_llm_response()`。"
   ]
  },
  {
   "cell_type": "code",
   "execution_count": null,
   "metadata": {},
   "outputs": [],
   "source": [
    "task = list_of_tasks[0]\n",
    "print_llm_response(task)"
   ]
  },
  {
   "cell_type": "code",
   "execution_count": null,
   "metadata": {},
   "outputs": [],
   "source": [
    "task = list_of_tasks[1]\n",
    "print_llm_response(task)"
   ]
  },
  {
   "cell_type": "code",
   "execution_count": null,
   "metadata": {},
   "outputs": [],
   "source": [
    "task = list_of_tasks[2]\n",
    "print_llm_response(task)"
   ]
  },
  {
   "cell_type": "markdown",
   "metadata": {},
   "source": [
    "You worked through all the elements in the list, but there is still a lot of repetition here. You had to specify each element separately. There is actually a much better way to do this using something called a for loop. Let's go to the next video to see it in action.\n",
    "\n",
    "您处理了列表中的所有元素，但这里仍然有很多重复。您必须单独指定每个元素。实际上有一个更好的方法来做到这一点，使用一种叫做for循环的东西。让我们去下一个视频看看它是如何工作的。"
   ]
  },
  {
   "cell_type": "markdown",
   "metadata": {},
   "source": [
    "## Extra practice\n",
    "## 额外练习"
   ]
  },
  {
   "cell_type": "markdown",
   "metadata": {},
   "source": [
    "Please go through the exercises in the cells below if you want some extra practice for the topics you covered in this lesson.\n",
    "\n",
    "如果您想对本课涵盖的主题进行额外练习，请完成下面单元格中的练习。"
   ]
  },
  {
   "cell_type": "code",
   "execution_count": null,
   "metadata": {},
   "outputs": [],
   "source": [
    "# Create a list with the titles \n",
    "# of five of your favorite movies\n",
    "# 创建一个包含您最喜欢的五部电影标题的列表\n",
    "\n",
    "### WRITE CODE HERE ###\n",
    "movie_list = \n",
    "### --------------- ###"
   ]
  },
  {
   "cell_type": "code",
   "execution_count": null,
   "metadata": {},
   "outputs": [],
   "source": [
    "# Display the fourth element of \n",
    "# the following list using print()\n",
    "# 使用print()显示以下列表的第四个元素\n",
    "\n",
    "prime_numbers = [2, 3, 5, 7, 11]\n",
    "\n",
    "### WRITE CODE HERE ###\n",
    "\n",
    "### --------------- ###"
   ]
  },
  {
   "cell_type": "code",
   "execution_count": null,
   "metadata": {},
   "outputs": [],
   "source": [
    "# Fix the bug in the following code\n",
    "# 修复以下代码中的错误\n",
    "\n",
    "prime_numbers = [2, 3, 5, 7, 11]\n",
    "\n",
    "### FIX THIS CODE ###\n",
    "print(prime_numbers(3))  # access and print() the fourth element\n",
    "### --------------- ###"
   ]
  },
  {
   "cell_type": "code",
   "execution_count": null,
   "metadata": {},
   "outputs": [],
   "source": [
    "# Add one name to friends_list using append\n",
    "# 使用append向friends_list添加一个名字\n",
    "\n",
    "friends_list = [\"Tommy\", \"Isabel\", \"Daniel\", \"Otto\"]\n",
    "\n",
    "### WRITE CODE HERE ###\n",
    "\n",
    "### --------------- ###\n",
    "\n",
    "print(friends_list)"
   ]
  },
  {
   "cell_type": "code",
   "execution_count": null,
   "metadata": {},
   "outputs": [],
   "source": [
    "# In the following code, remove the country \n",
    "# that is not in South America\n",
    "# 在以下代码中，删除不在南美洲的国家\n",
    "\n",
    "countries_in_south_america = [\"Colombia\", \"Peru\", \n",
    "                              \"Brasil\", \"Japan\",\n",
    "                              \"Argentina\"]\n",
    "\n",
    "### WRITE CODE HERE ###\n",
    "\n",
    "### --------------- ###\n",
    "\n",
    "print(countries_in_south_america)"
   ]
  }
 ],
 "metadata": {
  "kernelspec": {
   "display_name": "Python 3",
   "language": "python",
   "name": "python3"
  },
  "language_info": {
   "codemirror_mode": {
    "name": "ipython",
    "version": 3
   },
   "file_extension": ".py",
   "mimetype": "text/x-python",
   "name": "python",
   "nbconvert_exporter": "python",
   "pygments_lexer": "ipython3",
   "version": "3.8.0"
  }
 },
 "nbformat": 4,
 "nbformat_minor": 4
}