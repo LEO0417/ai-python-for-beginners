{
 "cells": [
  {
   "cell_type": "markdown",
   "metadata": {},
   "source": [
    "# Lesson 3 - Prioritizing tasks with dictionaries and AI\n",
    "# 第3课 - 使用字典和AI优先排序任务"
   ]
  },
  {
   "cell_type": "markdown",
   "metadata": {},
   "source": [
    "In this lesson, you will explore dictionaries, a data structure that helps you store key-value pairs. The main difference with list, is that dictionaries assign a key to each values instead of an index. Let's start by importing some functions.\n",
    "\n",
    "在本课程中，您将探索字典，这是一种帮助您存储键值对的数据结构。与列表的主要区别是，字典为每个值分配一个键而不是索引。让我们从导入一些函数开始。"
   ]
  },
  {
   "cell_type": "code",
   "execution_count": null,
   "metadata": {},
   "outputs": [],
   "source": [
    "from helper_functions import print_llm_response, get_llm_response"
   ]
  },
  {
   "cell_type": "markdown",
   "metadata": {},
   "source": [
    "If you wanted to store ice cream flavor descriptions using lists, you would have something like this:\n",
    "\n",
    "如果您想使用列表存储冰淇淋口味描述，您会有这样的内容："
   ]
  },
  {
   "cell_type": "code",
   "execution_count": null,
   "metadata": {},
   "outputs": [],
   "source": [
    "ice_cream_flavors = [\n",
    "    \"Vanilla: Classic and creamy with a rich, smooth flavor from real vanilla beans.\",\n",
    "    \"Chocolate: Deep and indulgent, made with rich cocoa for a satisfying chocolate experience.\",\n",
    "    \"Strawberry: Sweet and fruity, bursting with the fresh taste of ripe strawberries.\",\n",
    "    \"Mint Chocolate Chip: Refreshing mint ice cream studded with decadent chocolate chips.\",\n",
    "    \"Cookie Dough: Vanilla ice cream loaded with chunks of chocolate chip cookie dough.\",\n",
    "    \"Salted Caramel: Sweet and salty with a smooth caramel swirl and a hint of sea salt.\",\n",
    "    \"Pistachio: Nutty and creamy, featuring the distinct taste of real pistachios.\",\n",
    "    \"Cookies and Cream: Vanilla ice cream packed with chunks of chocolate sandwich cookies.\",\n",
    "    \"Mango: Tropical and tangy, made with juicy mangoes for a refreshing treat.\",\n",
    "    \"Rocky Road: Chocolate ice cream mixed with marshmallows, nuts, and chocolate chunks.\"\n",
    "]"
   ]
  },
  {
   "cell_type": "markdown",
   "metadata": {},
   "source": [
    "If you wanted to look up the description for a particular flavor, you would have to memorize its index.\n",
    "\n",
    "如果您想查找特定口味的描述，您必须记住其索引。"
   ]
  },
  {
   "cell_type": "markdown",
   "metadata": {},
   "source": [
    "## Building intuition and definitions\n",
    "## 建立直觉和定义\n",
    "\n",
    "Dictionaries in Python are very similar to the dictionaries you would find in a library. Each value in a dictionary is associated with a key, just as you will find definitions associated to words in a hardcover dictionary. Let's take as an example the following dictionary with ice cream flavors.\n",
    "\n",
    "Python中的字典与您在图书馆中找到的字典非常相似。字典中的每个值都与一个键相关联，就像您会在硬拷贝字典中找到与单词相关的定义一样。让我们以下面的冰淇淋口味字典为例。"
   ]
  },
  {
   "cell_type": "code",
   "execution_count": null,
   "metadata": {},
   "outputs": [],
   "source": [
    "ice_cream_flavors = {\n",
    "    \"Mint Chocolate Chip\": \"Refreshing mint ice cream studded with decadent chocolate chips.\",\n",
    "    \"Cookie Dough\": \"Vanilla ice cream loaded with chunks of chocolate chip cookie dough.\",\n",
    "    \"Salted Caramel\": \"Sweet and salty with a smooth caramel swirl and a hint of sea salt.\"\n",
    "}"
   ]
  },
  {
   "cell_type": "markdown",
   "metadata": {},
   "source": [
    "The `ice_cream_flavors` dictionary has keys:\n",
    "\n",
    "`ice_cream_flavors`字典有键："
   ]
  },
  {
   "cell_type": "code",
   "execution_count": null,
   "metadata": {},
   "outputs": [],
   "source": [
    "print(ice_cream_flavors.keys())"
   ]
  },
  {
   "cell_type": "markdown",
   "metadata": {},
   "source": [
    "and values:\n",
    "\n",
    "和值："
   ]
  },
  {
   "cell_type": "code",
   "execution_count": null,
   "metadata": {},
   "outputs": [],
   "source": [
    "print(ice_cream_flavors.values())"
   ]
  },
  {
   "cell_type": "markdown",
   "metadata": {},
   "source": [
    "## Accessing elements\n",
    "## 访问元素"
   ]
  },
  {
   "cell_type": "markdown",
   "metadata": {},
   "source": [
    "Dictionaries don't index their elements as list do, so you cannot access values in the way you would using lists. If you run the cell below, you will get an error message since the index 0 is not a key in the `ice_cream_flavors` dictionary.\n",
    "\n",
    "字典不像列表那样索引其元素，因此您无法像使用列表那样访问值。如果您运行下面的单元格，您将得到一个错误消息，因为索引0不是`ice_cream_flavors`字典中的键。"
   ]
  },
  {
   "cell_type": "code",
   "execution_count": null,
   "metadata": {},
   "outputs": [],
   "source": [
    "# Wrong way of accessing elements (treating dict as a list)\n",
    "# 错误的访问元素方式（将字典当作列表处理）\n",
    "print(ice_cream_flavors[0])"
   ]
  },
  {
   "cell_type": "markdown",
   "metadata": {},
   "source": [
    "Let's ask the chatbot how to access items in this dictionary.\n",
    "\n",
    "让我们问聊天机器人如何访问这个字典中的项目。\n",
    "\n",
    "<p style=\"background-color:#F5C780; padding:15px\"> 🤖 <b>Use the Chatbot</b>: How do I access a single item in this dictionary? <br>\n",
    "ice_cream_flavors = {<br>\n",
    "    \"Mint Chocolate Chip\": \"Refreshing mint ice cream studded with decadent chocolate chips.\",<br>\n",
    "    \"Cookie Dough\": \"Vanilla ice cream loaded with chunks of chocolate chip cookie dough.\",<br>\n",
    "    \"Salted Caramel\": \"Sweet and salty with a smooth caramel swirl and a hint of sea salt.\"<br>\n",
    "} <br>\n",
    "</p>\n",
    "\n",
    "<p style=\"background-color:#F5C780; padding:15px\"> 🤖 <b>使用聊天机器人</b>：如何访问这个字典中的单个项目？<br>\n",
    "ice_cream_flavors = {<br>\n",
    "    \"Mint Chocolate Chip\": \"Refreshing mint ice cream studded with decadent chocolate chips.\",<br>\n",
    "    \"Cookie Dough\": \"Vanilla ice cream loaded with chunks of chocolate chip cookie dough.\",<br>\n",
    "    \"Salted Caramel\": \"Sweet and salty with a smooth caramel swirl and a hint of sea salt.\"<br>\n",
    "} <br>\n",
    "</p>"
   ]
  },
  {
   "cell_type": "markdown",
   "metadata": {},
   "source": [
    "So, to access the values in the dictionary you need to use its keys. For instance, for `Cookie Dough`, you can run the following code:\n",
    "\n",
    "因此，要访问字典中的值，您需要使用其键。例如，对于`Cookie Dough`，您可以运行以下代码："
   ]
  },
  {
   "cell_type": "code",
   "execution_count": null,
   "metadata": {},
   "outputs": [],
   "source": [
    "cookie_dough_description = ice_cream_flavors[\"Cookie Dough\"]\n",
    "print(cookie_dough_description)"
   ]
  },
  {
   "cell_type": "markdown",
   "metadata": {},
   "source": [
    "## Adding and updating elements in a dictionary\n",
    "## 在字典中添加和更新元素"
   ]
  },
  {
   "cell_type": "markdown",
   "metadata": {},
   "source": [
    "Let's take another look at the `ice_cream_flavors` dictionary\n",
    "\n",
    "让我们再看一下`ice_cream_flavors`字典"
   ]
  },
  {
   "cell_type": "code",
   "execution_count": null,
   "metadata": {},
   "outputs": [],
   "source": [
    "print(ice_cream_flavors)"
   ]
  },
  {
   "cell_type": "markdown",
   "metadata": {},
   "source": [
    "Now, to add a new item for the `\"Rocky Road\"` flavor, you will need to assign its definition to `ice_cream_flavors[\"Rocky Road\"]` as follows:\n",
    "\n",
    "现在，要为`\"Rocky Road\"`口味添加一个新项目，您需要将其定义分配给`ice_cream_flavors[\"Rocky Road\"]`，如下所示："
   ]
  },
  {
   "cell_type": "code",
   "execution_count": null,
   "metadata": {},
   "outputs": [],
   "source": [
    "ice_cream_flavors[\"Rocky Road\"] = \"Chocolate ice cream mixed with other ingredients.\""
   ]
  },
  {
   "cell_type": "markdown",
   "metadata": {},
   "source": [
    "Note that you are using the same syntax that selects a single item, but this time use a key that didn't exist before and assign it a value. Let's check the dictionary after this update:\n",
    "\n",
    "注意，您使用的是选择单个项目的相同语法，但这次使用了一个之前不存在的键并为其分配值。让我们在更新后检查字典："
   ]
  },
  {
   "cell_type": "code",
   "execution_count": null,
   "metadata": {},
   "outputs": [],
   "source": [
    "print(ice_cream_flavors)"
   ]
  },
  {
   "cell_type": "markdown",
   "metadata": {},
   "source": [
    "You can update existing dictionary items in a similar way. Let's fix the typos from the `\"Rocky Road\"` description.\n",
    "\n",
    "您可以以类似的方式更新现有字典项目。让我们修复`\"Rocky Road\"`描述中的拼写错误。"
   ]
  },
  {
   "cell_type": "code",
   "execution_count": null,
   "metadata": {},
   "outputs": [],
   "source": [
    "ice_cream_flavors[\"Rocky Road\"] = \"Chocolate ice cream mixed with marshmallows, nuts, and chocolate chunks.\""
   ]
  },
  {
   "cell_type": "code",
   "execution_count": null,
   "metadata": {},
   "outputs": [],
   "source": [
    "print(ice_cream_flavors)"
   ]
  },
  {
   "cell_type": "markdown",
   "metadata": {},
   "source": [
    "## Different types of elements\n",
    "## 不同类型的元素"
   ]
  },
  {
   "cell_type": "markdown",
   "metadata": {},
   "source": [
    "Let's say that you store data about your friends. For Isabel you have the following dictionary.\n",
    "\n",
    "假设您存储有关朋友的数据。对于Isabel，您有以下字典。"
   ]
  },
  {
   "cell_type": "code",
   "execution_count": null,
   "metadata": {},
   "outputs": [],
   "source": [
    "isabel_facts = {\n",
    "    \"age\": 28,\n",
    "    \"Favorite color\": \"red\"\n",
    "}\n",
    "print(isabel_facts)"
   ]
  },
  {
   "cell_type": "markdown",
   "metadata": {},
   "source": [
    "You can store information within that dictionary using lists. For instance, the names for each of her cats.\n",
    "\n",
    "您可以使用列表在该字典中存储信息。例如，她每只猫的名字。"
   ]
  },
  {
   "cell_type": "code",
   "execution_count": null,
   "metadata": {},
   "outputs": [],
   "source": [
    "isabel_facts[\"Cat names\"] = [\"Charlie\", \"Smokey\", \"Tabitha\"]"
   ]
  },
  {
   "cell_type": "code",
   "execution_count": null,
   "metadata": {},
   "outputs": [],
   "source": [
    "print(isabel_facts)"
   ]
  },
  {
   "cell_type": "markdown",
   "metadata": {},
   "source": [
    "Or her favorite snacks:\n",
    "\n",
    "或者她最喜欢的零食："
   ]
  },
  {
   "cell_type": "code",
   "execution_count": null,
   "metadata": {},
   "outputs": [],
   "source": [
    "isabel_facts[\"Favorite Snacks\"] = [\"pineapple cake\", \"candy\"]"
   ]
  },
  {
   "cell_type": "code",
   "execution_count": null,
   "metadata": {},
   "outputs": [],
   "source": [
    "print(isabel_facts)"
   ]
  },
  {
   "cell_type": "markdown",
   "metadata": {},
   "source": [
    "## Using dictionaries to complete high priority tasks using AI\n",
    "## 使用字典和AI完成高优先级任务"
   ]
  },
  {
   "cell_type": "markdown",
   "metadata": {},
   "source": [
    "In the previous lessons you completed the tasks from a list --like the one below-- using AI.\n",
    "\n",
    "在之前的课程中，您使用AI完成了来自列表的任务——如下所示。"
   ]
  },
  {
   "cell_type": "code",
   "execution_count": null,
   "metadata": {},
   "outputs": [],
   "source": [
    "# task example, large list not ordered by priority. Want to prioritize\n",
    "# 任务示例，大型列表未按优先级排序。想要优先排序\n",
    "list_of_tasks = [\n",
    "    \"Compose a brief email to my boss explaining that I will be late for tomorrow's meeting.\",\n",
    "    \"Write a birthday poem for Otto, celebrating his 28th birthday.\",\n",
    "    \"Write a 300-word review of the movie 'The Arrival'.\",\n",
    "    \"Draft a thank-you note for my neighbor Dapinder who helped water my plants while I was on vacation.\",\n",
    "    \"Create an outline for a presentation on the benefits of remote work.\"\n",
    "]"
   ]
  },
  {
   "cell_type": "markdown",
   "metadata": {},
   "source": [
    "In reality, not all tasks would have the same priority. In fact, for this example, you have tasks with high, medium and low priorities as defined by the following lists:\n",
    "\n",
    "实际上，不是所有任务都具有相同的优先级。事实上，对于这个例子，您有高、中、低优先级的任务，由以下列表定义："
   ]
  },
  {
   "cell_type": "code",
   "execution_count": null,
   "metadata": {},
   "outputs": [],
   "source": [
    "# instead of that unorganized large list, divide tasks by priority\n",
    "# 而不是那个无组织的大列表，按优先级划分任务\n",
    "high_priority_tasks = [\n",
    "    \"Compose a brief email to my boss explaining that I will be late for tomorrow's meeting.\",\n",
    "    \"Create an outline for a presentation on the benefits of remote work.\"\n",
    "]\n",
    "\n",
    "medium_priority_tasks = [\n",
    "    \"Write a birthday poem for Otto, celebrating his 28th birthday.\",\n",
    "    \"Draft a thank-you note for my neighbor Dapinder who helped water my plants while I was on vacation.\"\n",
    "]\n",
    "\n",
    "low_priority_tasks = [\n",
    "    \"Write a 300-word review of the movie 'The Arrival'.\"\n",
    "]"
   ]
  },
  {
   "cell_type": "markdown",
   "metadata": {},
   "source": [
    "You can use dictionaries to store all the tasks with their priorities in a single data object. Run the following cell to create that dictionary and display its contents:\n",
    "\n",
    "您可以使用字典将所有任务及其优先级存储在单个数据对象中。运行以下单元格来创建该字典并显示其内容："
   ]
  },
  {
   "cell_type": "code",
   "execution_count": null,
   "metadata": {},
   "outputs": [],
   "source": [
    "# create dictionary with all tasks\n",
    "# dictionaries can contain lists!\n",
    "# 创建包含所有任务的字典\n",
    "# 字典可以包含列表！\n",
    "prioritized_tasks = {\n",
    "    \"high_priority\": high_priority_tasks,\n",
    "    \"medium_priority\": medium_priority_tasks,\n",
    "    \"low_priority\": low_priority_tasks\n",
    "}"
   ]
  },
  {
   "cell_type": "code",
   "execution_count": null,
   "metadata": {},
   "outputs": [],
   "source": [
    "print(prioritized_tasks)"
   ]
  },
  {
   "cell_type": "markdown",
   "metadata": {},
   "source": [
    "With this data structure, it is easy for you to focus only on the high priority tasks and complete them using a for loop and LLMs:\n",
    "\n",
    "使用这种数据结构，您可以很容易地只关注高优先级任务，并使用for循环和LLM完成它们："
   ]
  },
  {
   "cell_type": "code",
   "execution_count": null,
   "metadata": {},
   "outputs": [],
   "source": [
    "print(prioritized_tasks[\"high_priority\"])"
   ]
  },
  {
   "cell_type": "code",
   "execution_count": null,
   "metadata": {},
   "outputs": [],
   "source": [
    "# complete high priority tasks \n",
    "# 完成高优先级任务\n",
    "for task in prioritized_tasks[\"high_priority\"]:\n",
    "    print_llm_response(task)"
   ]
  },
  {
   "cell_type": "markdown",
   "metadata": {},
   "source": [
    "In the next lesson we will continue exploring dictionaries. You will see how to use values to create prompts to use with LLMs.\n",
    "\n",
    "在下一课中，我们将继续探索字典。您将看到如何使用值来创建与LLM一起使用的提示。"
   ]
  },
  {
   "cell_type": "markdown",
   "metadata": {},
   "source": [
    "## Extra practice\n",
    "## 额外练习"
   ]
  },
  {
   "cell_type": "markdown",
   "metadata": {},
   "source": [
    "Please go through the exercises in the cells below if you want some extra practice for the topics you covered in this lesson.\n",
    "\n",
    "如果您想对本课涵盖的主题进行额外练习，请完成下面单元格中的练习。"
   ]
  },
  {
   "cell_type": "code",
   "execution_count": null,
   "metadata": {},
   "outputs": [],
   "source": [
    "# Update the description for the \n",
    "# Rocky Road flavor using get_llm_response()\n",
    "# 使用get_llm_response()更新Rocky Road口味的描述\n",
    "\n",
    "flavor = \"Rocky Road\" \n",
    "prompt = f\"Provide a brief description for the {flavor} ice cream flavor\"\n",
    "\n",
    "### EDIT THE FOLLOWING CODE ###\n",
    "ice_cream_flavors[\"Rocky Road\"] = \n",
    "### --------------- ###"
   ]
  },
  {
   "cell_type": "code",
   "execution_count": null,
   "metadata": {},
   "outputs": [],
   "source": [
    "# Complete the medium priority tasks\n",
    "# by modifying the following code\n",
    "# 通过修改以下代码完成中等优先级任务\n",
    "\n",
    "### EDIT THE FOLLOWING CODE ###\n",
    "for task in prioritized_tasks[\"high_priority\"]:\n",
    "    print_llm_response(task)\n",
    "### --------------- ###"
   ]
  }
 ],
 "metadata": {
  "kernelspec": {
   "display_name": "Python 3",
   "language": "python",
   "name": "python3"
  },
  "language_info": {
   "codemirror_mode": {
    "name": "ipython",
    "version": 3
   },
   "file_extension": ".py",
   "mimetype": "text/x-python",
   "name": "python",
   "nbconvert_exporter": "python",
   "pygments_lexer": "ipython3",
   "version": "3.8.0"
  }
 },
 "nbformat": 4,
 "nbformat_minor": 4
}