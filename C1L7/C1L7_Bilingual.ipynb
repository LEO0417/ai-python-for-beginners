{
 "cells": [
  {
   "cell_type": "markdown",
   "id": "214ecaa7",
   "metadata": {},
   "source": [
    "# Lesson 7: Displaying text and calculations together\n",
    "# 第7课：将文本和计算结果一起显示"
   ]
  },
  {
   "cell_type": "markdown",
   "id": "7b673ff9",
   "metadata": {},
   "source": [
    "You have seen that strings are used to store text and integers and floats are used to store numbers. \n",
    "\n",
    "你已经了解到字符串用于存储文本，整数和浮点数用于存储数字。\n",
    "\n",
    "<b>Strings</b>:\n",
    "\n",
    "<b>字符串</b>:\n",
    "\n",
    "- `\"Hello, world\"`\n",
    "\n",
    "- `\"My favorite drink is Earl Grey tea\"`\n",
    "\n",
    "<b>Integers and floats</b>:\n",
    "\n",
    "<b>整数和浮点数</b>:\n",
    "\n",
    "- `42`\n",
    "\n",
    "- `3.14`\n",
    "\n",
    "You have also seen that you can display data with `print()`:\n",
    "\n",
    "你也已经了解到可以使用 `print()` 来显示数据：\n",
    "\n",
    "- `print(\"Hello, World!\")`\n",
    "\n",
    "And you can use Python as a calculator:\n",
    "\n",
    "你也可以将Python用作计算器：\n",
    "\n",
    "- `print(3 * 4.5)`\n",
    "\n",
    "In this lesson, you will see how to mix computations and strings together to display results in a readable way using Python's f-strings.\n",
    "\n",
    "在本课中，你将学习如何使用Python的f-字符串将计算和字符串混合在一起，以可读的方式显示结果。"
   ]
  },
  {
   "cell_type": "markdown",
   "id": "9e17dcfc",
   "metadata": {},
   "source": [
    "## Mixing strings with computations or data: f-Strings\n",
    "## 将字符串与计算或数据混合：f-字符串"
   ]
  },
  {
   "cell_type": "markdown",
   "id": "fe7c44ec",
   "metadata": {},
   "source": [
    "If you wanted to display the equivalent degrees Celsius to a temperature in degrees Fahrenheit, you would do something like this:\n",
    "\n",
    "如果你想显示华氏温度对应的摄氏温度，你可以这样做："
   ]
  },
  {
   "cell_type": "code",
   "execution_count": null,
   "id": "b25dbb3d",
   "metadata": {},
   "outputs": [],
   "source": [
    "print(((75 - 32) * 5 / 9))"
   ]
  },
  {
   "cell_type": "markdown",
   "id": "c46cd21a",
   "metadata": {},
   "source": [
    "Now, if you wanted to display that degrees conversion using a string that included the computation, you could try:\n",
    "\n",
    "现在，如果你想使用包含计算的字符串来显示温度转换，你可以尝试："
   ]
  },
  {
   "cell_type": "code",
   "execution_count": null,
   "id": "e0c8dbb3",
   "metadata": {},
   "outputs": [],
   "source": [
    "print(\"The temperature 75F in degrees Celsius is ((75 - 32) * 5 / 9)C\")"
   ]
  },
  {
   "cell_type": "markdown",
   "id": "96d232d1",
   "metadata": {},
   "source": [
    "But that doesn't work. It gives you back the formula, but it doesn't actually convert from degrees Fahrenheit to Celsius. \n",
    "\n",
    "但这样不起作用。它只是返回公式，但实际上并没有将华氏度转换为摄氏度。\n",
    "\n",
    "To print the result of the computation within that string rather than just the formula, you can use what is called an <b>f-string</b> in Python which looks like this:\n",
    "\n",
    "要在字符串中打印计算结果而不仅仅是公式，你可以使用Python中称为<b>f-字符串</b>的功能，它看起来像这样："
   ]
  },
  {
   "cell_type": "code",
   "execution_count": null,
   "id": "a434574b",
   "metadata": {},
   "outputs": [],
   "source": [
    "print(f\"The temperature 75F in degrees celsius is {(75 - 32) * 5 / 9}C\")"
   ]
  },
  {
   "cell_type": "markdown",
   "id": "b0ff33f8",
   "metadata": {},
   "source": [
    "There, I have written `f` (for formatted) before the quotation marks that denote a string, and I included the computation within curly braces `{(75 - 32) * 5 / 9}`. The `f` character tells Python that the subsequent string has data or computations within any pair of curly braces.\n",
    "\n",
    "在这里，我在表示字符串的引号前写了 `f`（表示格式化），并将计算包含在花括号 `{(75 - 32) * 5 / 9}` 中。`f` 字符告诉Python，后续字符串在任何一对花括号内都有数据或计算。"
   ]
  },
  {
   "cell_type": "markdown",
   "id": "b8081f54",
   "metadata": {},
   "source": [
    "## Determining how data is displayed in f-strings\n",
    "## 确定数据在f-字符串中的显示方式"
   ]
  },
  {
   "cell_type": "markdown",
   "id": "1ad2fbac",
   "metadata": {},
   "source": [
    "Let's go through another example. You can print Isabel's age as follows:\n",
    "\n",
    "让我们看另一个例子。你可以这样打印Isabel的年龄："
   ]
  },
  {
   "cell_type": "code",
   "execution_count": null,
   "id": "11225cfb",
   "metadata": {},
   "outputs": [],
   "source": [
    "print(\"Isabel is 28 years old.\")"
   ]
  },
  {
   "cell_type": "markdown",
   "id": "434aa478",
   "metadata": {},
   "source": [
    "In some countries, there exists the concept of dog age. Since people live longer than dogs on average, someone's dog age is supposed to be one-seventh of their real human age. So, if you wanted to compute and display Isabel's dog age in a readable way, you wouldn't use a regular string like the one below.\n",
    "\n",
    "在一些国家，存在狗年龄的概念。由于人类平均比狗活得更长，某人的狗年龄应该是其真实人类年龄的七分之一。所以，如果你想以可读的方式计算和显示Isabel的狗年龄，你不会使用下面这样的普通字符串。"
   ]
  },
  {
   "cell_type": "code",
   "execution_count": null,
   "id": "3fb5fdb4",
   "metadata": {},
   "outputs": [],
   "source": [
    "print(\"Isabel is 28/7 dog years old.\")"
   ]
  },
  {
   "cell_type": "markdown",
   "id": "aec3622b",
   "metadata": {},
   "source": [
    "Instead, you would use an f-string that includes the dog age equivalency computation as in the temperature conversion example.\n",
    "\n",
    "相反，你会使用包含狗年龄等价计算的f-字符串，就像温度转换示例中那样。"
   ]
  },
  {
   "cell_type": "code",
   "execution_count": null,
   "id": "8b166959",
   "metadata": {},
   "outputs": [],
   "source": [
    "print(f\"Isabel is {28/7} dog years old.\")"
   ]
  },
  {
   "cell_type": "markdown",
   "id": "8a177221",
   "metadata": {},
   "source": [
    "Now, you see that the last print statement did work, but it displayed the number with one decimal place. What if you wanted to display a whole number, which is much more natural when speaking about ages? You can use the chatbot to answer that question. Feel free to copy and paste the prompt provided below or use your own, using it as a guideline:\n",
    "\n",
    "现在，你看到最后的print语句确实有效，但它显示了带有一位小数的数字。如果你想显示整数，这在谈论年龄时更自然，该怎么办？你可以使用聊天机器人来回答这个问题。请随意复制并粘贴下面提供的提示，或使用你自己的提示作为指导：\n",
    "\n",
    "<p style=\"background-color:#F5C780; padding:15px\"> 🤖 <b>Use the Chatbot</b>: Modify this code to print the answer without any characters after the decimal place: print(f\"Isabel's dog age is {28/7}.\")  \n",
    "</p>\n",
    "\n",
    "<p style=\"background-color:#F5C780; padding:15px\"> 🤖 <b>使用聊天机器人</b>: 修改这段代码，使其打印答案时不显示小数点后的任何字符：print(f\"Isabel's dog age is {28/7}.\")  \n",
    "</p>"
   ]
  },
  {
   "cell_type": "markdown",
   "id": "60469567",
   "metadata": {},
   "source": [
    "If you used that prompt, or another similar one, you would have gotten the code provided below. \n",
    "\n",
    "如果你使用了那个提示，或另一个类似的提示，你会得到下面提供的代码。"
   ]
  },
  {
   "cell_type": "code",
   "execution_count": null,
   "id": "c8cb9777",
   "metadata": {},
   "outputs": [],
   "source": [
    "print(f\"Isabel is {28/7:.0f} dog years old.\")"
   ]
  },
  {
   "cell_type": "markdown",
   "id": "b8f96a44",
   "metadata": {},
   "source": [
    "In `f\"{28/7:.0f}\"`, the `:.0f` part tells Python to display the result of `28/7` without any decimal places. You don't need to worry too much about the details, but the `f` in `:.0f` indicates that the number is a floating-point number and should be formatted accordingly. This means it will be rounded to the nearest whole number and displayed without any decimal part.\n",
    "\n",
    "在 `f\"{28/7:.0f}\"` 中，`:.0f` 部分告诉Python显示 `28/7` 的结果时不显示任何小数位。你不需要过分担心细节，但 `:.0f` 中的 `f` 表示该数字是浮点数，应该相应地格式化。这意味着它将四舍五入到最接近的整数，并且不显示任何小数部分。"
   ]
  },
  {
   "cell_type": "markdown",
   "id": "abe5e612",
   "metadata": {},
   "source": [
    "<b>You just used AI to help you code!</b> You provided it with a piece of code that works in one way (displaying a number with decimal places) and asked it to modify it to work in a different way (displaying a number without decimal places). \n",
    "\n",
    "<b>你刚刚使用了AI来帮助你编程！</b> 你提供了一段以某种方式工作的代码（显示带小数位的数字），并要求它修改为以不同方式工作（显示不带小数位的数字）。\n",
    "\n",
    "<b>Congratulations 🎉🎉🎉</b>\n",
    "\n",
    "<b>恭喜你 🎉🎉🎉</b>"
   ]
  },
  {
   "cell_type": "markdown",
   "id": "8b16c40d",
   "metadata": {},
   "source": [
    "## Multi-line f-strings\n",
    "## 多行f-字符串"
   ]
  },
  {
   "cell_type": "markdown",
   "id": "177387db",
   "metadata": {},
   "source": [
    "So far, you have worked with strings that have a relatively small length. For lengthy strings, you will use multi-line strings, which are easier to read in a code editor.\n",
    "\n",
    "到目前为止，你使用的字符串长度相对较短。对于较长的字符串，你将使用多行字符串，这在代码编辑器中更容易阅读。\n",
    "\n",
    "The following multi-line f-string includes a description of how Americans use measurements in units that are not in the metric system. It displays the equivalent milliliters (ml) for 8 fluid ounces of milk and the equivalent fluid ounces to 100 ml of water.\n",
    "\n",
    "下面的多行f-字符串包含了美国人如何使用非公制单位进行测量的描述。它显示了8液体盎司牛奶对应的毫升(ml)数，以及100毫升水对应的液体盎司数。"
   ]
  },
  {
   "cell_type": "code",
   "execution_count": null,
   "id": "01f5be22",
   "metadata": {},
   "outputs": [],
   "source": [
    "print(f\"\"\"\n",
    "    Most countries use the metric system for recipe measurement, \n",
    "    but American bakers use a different system. For example, they use \n",
    "    fluid ounces to measure liquids instead of milliliters (ml).\n",
    "    \n",
    "    So you need to convert recipe units to your local measuring system!\n",
    "    \n",
    "    For example, 8 fluid ounces of milk is {8 * 29.5735} ml.\n",
    "    And 100ml of water is {100 / 29.5735} fluid ounces.\n",
    "\"\"\")"
   ]
  },
  {
   "cell_type": "markdown",
   "id": "acc8ec4c",
   "metadata": {},
   "source": [
    "As you see there, you have to use triple quotes `\"\"\"` instead of single quotes `\"` for multi-line strings, and you have multiple lines with text and computations; but besides that, everything works pretty much the same way.\n",
    "\n",
    "如你所见，对于多行字符串，你必须使用三重引号 `\"\"\"` 而不是单引号 `\"`，并且你有多行文本和计算；但除此之外，一切工作方式基本相同。"
   ]
  },
  {
   "cell_type": "markdown",
   "id": "65bf114b",
   "metadata": {},
   "source": [
    "You may have noticed that the way you are using f-strings right now is not that easy to read. All those numbers inside the curly braces don't let you see at a glance what the output is going to be, and if you have lots of calculations, it can be distracting.\n",
    "\n",
    "你可能已经注意到，你现在使用f-字符串的方式不是那么容易阅读。花括号内的所有这些数字不能让你一眼看出输出会是什么，如果你有很多计算，这可能会分散注意力。\n",
    "\n",
    "In the next lesson, you'll see how to make your code easier to read, more flexible and reusable at the same time.\n",
    "\n",
    "在下一课中，你将学习如何使你的代码更易读、更灵活，同时更可重用。"
   ]
  },
  {
   "cell_type": "markdown",
   "id": "630c7ed6",
   "metadata": {},
   "source": [
    "## Extra practice\n",
    "## 额外练习\n",
    "\n",
    "Try the exercises below to practice the concepts from this lesson. Read the comments in each cell with the instructions for each exercise.\n",
    "\n",
    "尝试下面的练习来练习本课的概念。阅读每个单元格中的注释，了解每个练习的说明。\n",
    "\n",
    "<b>Feel free to use the chatbot if you need help.</b>\n",
    "\n",
    "<b>如果需要帮助，请随时使用聊天机器人。</b>"
   ]
  },
  {
   "cell_type": "code",
   "execution_count": null,
   "id": "98b11e54",
   "metadata": {},
   "outputs": [],
   "source": "# Modify the code to print your age\n# 修改代码以打印你的年龄\nprint(f\"I am {25} years old.\")"
  },
  {
   "cell_type": "code",
   "execution_count": null,
   "id": "e815ac9d",
   "metadata": {},
   "outputs": [],
   "source": "# Fix this code\n# 修复这段代码\nprint(f\"There are {365/7:.1f} weeks in a year\")"
  },
  {
   "cell_type": "code",
   "execution_count": null,
   "id": "1bddecfc",
   "metadata": {},
   "outputs": [],
   "source": "# Complete the code\n# 完成这段代码\nprint(f\"The area of a square with side 5 cm is {5 * 5} cm squared.\")"
  },
  {
   "cell_type": "code",
   "execution_count": null,
   "id": "fcd07d9b",
   "metadata": {},
   "outputs": [],
   "source": "# Modify the code to display one decimal place\n# 修改代码以显示一位小数\nprint(f\"The house was a good size: 1200 square feet, or {1200 * 0.092903:.1f} meters squared!\")"
  }
 ],
 "metadata": {
  "kernelspec": {
   "display_name": "Python 3 (ipykernel)",
   "language": "python",
   "name": "python3"
  },
  "language_info": {
   "codemirror_mode": {
    "name": "ipython",
    "version": 3
   },
   "file_extension": ".py",
   "mimetype": "text/x-python",
   "name": "python",
   "nbconvert_exporter": "python",
   "pygments_lexer": "ipython3",
   "version": "3.9.19"
  }
 },
 "nbformat": 4,
 "nbformat_minor": 5
}